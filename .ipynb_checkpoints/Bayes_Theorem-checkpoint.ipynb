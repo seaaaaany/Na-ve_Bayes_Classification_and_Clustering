{
 "cells": [
  {
   "cell_type": "markdown",
   "id": "fd19cb26",
   "metadata": {},
   "source": [
    "### With what information does Bayes Theorem update our previous knowledge about the data parameters?\n",
    "\n",
    "1. By combining our previous knowledge (called the prior distribution),\n",
    "2. With new information obtained from observed data,\n",
    "3. Resulting in updated parameter knowledge (called the posterior distribution)."
   ]
  },
  {
   "cell_type": "markdown",
   "id": "4a1ddd5f",
   "metadata": {},
   "source": [
    "### What does the prior probability represent?\n",
    "\n",
    "Prior probability, in Bayesian statistical inference, is the probability of an event before new data is collected. This is the best rational assessment of the probability of an outcome based on the current knowledge before an experiment is performed. \n",
    "\n",
    "It often simply called the prior, of an uncertain quantity is the probability distribution that would express one's beliefs about this quantity before some evidence is taken into account."
   ]
  },
  {
   "cell_type": "markdown",
   "id": "f356369e",
   "metadata": {},
   "source": [
    "### Wine Analysis"
   ]
  },
  {
   "cell_type": "code",
   "execution_count": 1,
   "id": "39107b86",
   "metadata": {},
   "outputs": [],
   "source": [
    "# dependencies\n",
    "import pandas as pd\n",
    "import numpy as np\n",
    "import matplotlib.pyplot as plt\n",
    "\n",
    "from sklearn.naive_bayes import GaussianNB \n",
    "from sklearn.model_selection import train_test_split\n",
    "from sklearn.linear_model import LogisticRegression\n",
    "from sklearn.neural_network import MLPClassifier\n",
    "from sklearn.tree import DecisionTreeClassifier"
   ]
  },
  {
   "cell_type": "code",
   "execution_count": 2,
   "id": "78ded26a",
   "metadata": {},
   "outputs": [],
   "source": [
    "# load training dataset\n",
    "wine_train = pd.read_csv('https://raw.githubusercontent.com/ArashVafa/DESC624/master/wine_flag_training.csv')\n",
    "# load test dataset\n",
    "wine_test = pd.read_csv('https://raw.githubusercontent.com/ArashVafa/DESC624/master/wine_flag_test.csv')"
   ]
  },
  {
   "cell_type": "code",
   "execution_count": 3,
   "id": "3922a0ab",
   "metadata": {},
   "outputs": [
    {
     "data": {
      "text/html": [
       "<div>\n",
       "<style scoped>\n",
       "    .dataframe tbody tr th:only-of-type {\n",
       "        vertical-align: middle;\n",
       "    }\n",
       "\n",
       "    .dataframe tbody tr th {\n",
       "        vertical-align: top;\n",
       "    }\n",
       "\n",
       "    .dataframe thead th {\n",
       "        text-align: right;\n",
       "    }\n",
       "</style>\n",
       "<table border=\"1\" class=\"dataframe\">\n",
       "  <thead>\n",
       "    <tr style=\"text-align: right;\">\n",
       "      <th></th>\n",
       "      <th>Type</th>\n",
       "      <th>Alcohol_flag</th>\n",
       "      <th>Sugar_flag</th>\n",
       "    </tr>\n",
       "  </thead>\n",
       "  <tbody>\n",
       "    <tr>\n",
       "      <th>0</th>\n",
       "      <td>Red</td>\n",
       "      <td>High</td>\n",
       "      <td>High</td>\n",
       "    </tr>\n",
       "    <tr>\n",
       "      <th>1</th>\n",
       "      <td>Red</td>\n",
       "      <td>High</td>\n",
       "      <td>Low</td>\n",
       "    </tr>\n",
       "    <tr>\n",
       "      <th>2</th>\n",
       "      <td>Red</td>\n",
       "      <td>Low</td>\n",
       "      <td>High</td>\n",
       "    </tr>\n",
       "    <tr>\n",
       "      <th>3</th>\n",
       "      <td>Red</td>\n",
       "      <td>High</td>\n",
       "      <td>Low</td>\n",
       "    </tr>\n",
       "    <tr>\n",
       "      <th>4</th>\n",
       "      <td>Red</td>\n",
       "      <td>Low</td>\n",
       "      <td>Low</td>\n",
       "    </tr>\n",
       "  </tbody>\n",
       "</table>\n",
       "</div>"
      ],
      "text/plain": [
       "  Type Alcohol_flag Sugar_flag\n",
       "0  Red         High       High\n",
       "1  Red         High        Low\n",
       "2  Red          Low       High\n",
       "3  Red         High        Low\n",
       "4  Red          Low        Low"
      ]
     },
     "execution_count": 3,
     "metadata": {},
     "output_type": "execute_result"
    }
   ],
   "source": [
    "wine_train.head()"
   ]
  },
  {
   "cell_type": "markdown",
   "id": "0046e6be",
   "metadata": {},
   "source": [
    "Build contingency tables for calculations."
   ]
  },
  {
   "cell_type": "code",
   "execution_count": 4,
   "id": "05931650",
   "metadata": {},
   "outputs": [
    {
     "data": {
      "text/html": [
       "<div>\n",
       "<style scoped>\n",
       "    .dataframe tbody tr th:only-of-type {\n",
       "        vertical-align: middle;\n",
       "    }\n",
       "\n",
       "    .dataframe tbody tr th {\n",
       "        vertical-align: top;\n",
       "    }\n",
       "\n",
       "    .dataframe thead th {\n",
       "        text-align: right;\n",
       "    }\n",
       "</style>\n",
       "<table border=\"1\" class=\"dataframe\">\n",
       "  <thead>\n",
       "    <tr style=\"text-align: right;\">\n",
       "      <th>Alcohol_flag</th>\n",
       "      <th>High</th>\n",
       "      <th>Low</th>\n",
       "      <th>All</th>\n",
       "    </tr>\n",
       "    <tr>\n",
       "      <th>Type</th>\n",
       "      <th></th>\n",
       "      <th></th>\n",
       "      <th></th>\n",
       "    </tr>\n",
       "  </thead>\n",
       "  <tbody>\n",
       "    <tr>\n",
       "      <th>Red</th>\n",
       "      <td>218</td>\n",
       "      <td>282</td>\n",
       "      <td>500</td>\n",
       "    </tr>\n",
       "    <tr>\n",
       "      <th>White</th>\n",
       "      <td>268</td>\n",
       "      <td>232</td>\n",
       "      <td>500</td>\n",
       "    </tr>\n",
       "    <tr>\n",
       "      <th>All</th>\n",
       "      <td>486</td>\n",
       "      <td>514</td>\n",
       "      <td>1000</td>\n",
       "    </tr>\n",
       "  </tbody>\n",
       "</table>\n",
       "</div>"
      ],
      "text/plain": [
       "Alcohol_flag  High  Low   All\n",
       "Type                         \n",
       "Red            218  282   500\n",
       "White          268  232   500\n",
       "All            486  514  1000"
      ]
     },
     "execution_count": 4,
     "metadata": {},
     "output_type": "execute_result"
    }
   ],
   "source": [
    "# contingency tables for Type and Alcohol_flag\n",
    "ct1 = pd.crosstab(wine_train.Type, wine_train.Alcohol_flag, margins=True)\n",
    "ct1"
   ]
  },
  {
   "cell_type": "code",
   "execution_count": 5,
   "id": "99304ff6",
   "metadata": {},
   "outputs": [
    {
     "data": {
      "text/html": [
       "<div>\n",
       "<style scoped>\n",
       "    .dataframe tbody tr th:only-of-type {\n",
       "        vertical-align: middle;\n",
       "    }\n",
       "\n",
       "    .dataframe tbody tr th {\n",
       "        vertical-align: top;\n",
       "    }\n",
       "\n",
       "    .dataframe thead th {\n",
       "        text-align: right;\n",
       "    }\n",
       "</style>\n",
       "<table border=\"1\" class=\"dataframe\">\n",
       "  <thead>\n",
       "    <tr style=\"text-align: right;\">\n",
       "      <th>Sugar_flag</th>\n",
       "      <th>High</th>\n",
       "      <th>Low</th>\n",
       "      <th>All</th>\n",
       "    </tr>\n",
       "    <tr>\n",
       "      <th>Type</th>\n",
       "      <th></th>\n",
       "      <th></th>\n",
       "      <th></th>\n",
       "    </tr>\n",
       "  </thead>\n",
       "  <tbody>\n",
       "    <tr>\n",
       "      <th>Red</th>\n",
       "      <td>116</td>\n",
       "      <td>384</td>\n",
       "      <td>500</td>\n",
       "    </tr>\n",
       "    <tr>\n",
       "      <th>White</th>\n",
       "      <td>300</td>\n",
       "      <td>200</td>\n",
       "      <td>500</td>\n",
       "    </tr>\n",
       "    <tr>\n",
       "      <th>All</th>\n",
       "      <td>416</td>\n",
       "      <td>584</td>\n",
       "      <td>1000</td>\n",
       "    </tr>\n",
       "  </tbody>\n",
       "</table>\n",
       "</div>"
      ],
      "text/plain": [
       "Sugar_flag  High  Low   All\n",
       "Type                       \n",
       "Red          116  384   500\n",
       "White        300  200   500\n",
       "All          416  584  1000"
      ]
     },
     "execution_count": 5,
     "metadata": {},
     "output_type": "execute_result"
    }
   ],
   "source": [
    "# contingency tables for Type and Sugar_flag\n",
    "ct2 = pd.crosstab(wine_train.Type, wine_train.Sugar_flag, margins=True)\n",
    "ct2"
   ]
  },
  {
   "cell_type": "code",
   "execution_count": 6,
   "id": "68bef9f7",
   "metadata": {},
   "outputs": [
    {
     "name": "stdout",
     "output_type": "stream",
     "text": [
      "The prior probability of Type = Red is  50.0 %\n",
      "The prior probability of Type = White is  50.0 %\n",
      "The probability of high content is  48.6 %\n",
      "The probability of low content is  51.4 %\n",
      "The probability of high sugar content is  41.6 %\n",
      "The probability of low sugar content is  41.6 %\n",
      "The onditional probabilities p(Alcohol_flag = High ∣ Type = Red) is  43.6 %\n",
      "The onditional probabilities p(Alcohol_flag = Low ∣ Type = Red) is  56.4 %\n",
      "The conditional probabilities p(Alcohol_flag = High ∣ Type = White) is  53.6 %\n",
      "The conditional probabilities p(Alcohol_flag = Low ∣ Type = White) is  46.4 %\n",
      "The conditional probabilities p(Sugar_flag = High ∣ Type = Red) is  23.2 %\n",
      "The conditional probabilities p(Sugar_flag = Low ∣ Type = Red) is  76.8 %\n",
      "The conditional probabilities p(Sugar_flag = High ∣ Type = White) is  60.0 %\n",
      "The conditional probabilities p(Sugar_flag = Low ∣ Type = White) is  40.0 %\n"
     ]
    }
   ],
   "source": [
    "# The prior probability of Type = Red and Type = White.\n",
    "prob1 = ct1['All']['Red']/ct1['All']['All']\n",
    "print(\"The prior probability of Type = Red is \", round(prob1*100,2), \"%\")\n",
    "print(\"The prior probability of Type = White is \", round((1-prob1)*100,2), \"%\")\n",
    "\n",
    "# The probability of high and low alcohol content.\n",
    "prob2 = ct1['High']['All']/ct1['All']['All']\n",
    "print(\"The probability of high content is \", round(prob2*100,2), \"%\")\n",
    "print(\"The probability of low content is \", round((1-prob2)*100,2), \"%\")\n",
    "\n",
    "# The probability of high and low sugar content.\n",
    "prob3 = ct2['High']['All']/ct2['All']['All']\n",
    "print(\"The probability of high sugar content is \", round(prob3*100,2), \"%\")\n",
    "print(\"The probability of low sugar content is \", round(prob3*100,2), \"%\")\n",
    "\n",
    "# The conditional probabilities p(Alcohol_flag = High ∣ Type = Red) and p(Alcohol_flag = Low ∣ Type = Red).\n",
    "prob4 = ct1['High']['Red']/ct1['All']['Red']\n",
    "print(\"The onditional probabilities p(Alcohol_flag = High ∣ Type = Red) is \", round(prob4*100,2), \"%\")\n",
    "print(\"The onditional probabilities p(Alcohol_flag = Low ∣ Type = Red) is \", round((1-prob4)*100,2), \"%\")\n",
    "\n",
    "# The conditional probabilities p(Alcohol_flag = High ∣ Type = White) and p(Alcohol_flag = Low ∣ Type = White).\n",
    "prob5 = ct1['High']['White']/ct1['All']['White'] \n",
    "print(\"The conditional probabilities p(Alcohol_flag = High ∣ Type = White) is \", round(prob5*100, 2), \"%\")\n",
    "print(\"The conditional probabilities p(Alcohol_flag = Low ∣ Type = White) is \", round((1-prob5)*100, 2), \"%\")\n",
    "\n",
    "# The conditional probabilities p(Sugar_flag = High ∣ Type = Red) and p(Sugar_flag = Low ∣ Type = Red).\n",
    "prob6 = ct2['High']['Red']/ct2['All']['Red']\n",
    "print(\"The conditional probabilities p(Sugar_flag = High ∣ Type = Red) is \", round(prob6*100, 2), \"%\")\n",
    "print(\"The conditional probabilities p(Sugar_flag = Low ∣ Type = Red) is \", round((1-prob6)*100, 2), \"%\")\n",
    "\n",
    "# The conditional probabilities p(Sugar_flag = High ∣ Type = White) and p(Sugar_flag = Low ∣ Type = White).\n",
    "prob7 = ct2['High']['White']/ct2['All']['White']\n",
    "print(\"The conditional probabilities p(Sugar_flag = High ∣ Type = White) is \", round(prob7*100, 2), \"%\")\n",
    "print(\"The conditional probabilities p(Sugar_flag = Low ∣ Type = White) is \", round((1-prob7)*100, 2), \"%\")"
   ]
  },
  {
   "cell_type": "markdown",
   "id": "c6deb4c1",
   "metadata": {},
   "source": [
    "#### Use the probabilities in the previous exercise to discuss\n",
    "\n",
    "- How likely it is that a randomly selected wine is red.\n",
    "- How likely it is that a randomly selected wine has a high alcohol content.\n",
    "- How likely it is that a randomly selected wine has a low sugar content."
   ]
  },
  {
   "cell_type": "code",
   "execution_count": 7,
   "id": "2dcf91d3",
   "metadata": {},
   "outputs": [
    {
     "name": "stdout",
     "output_type": "stream",
     "text": [
      "The probability that a randomly selected wine is red is  50.0 %\n",
      "The probability that a randomly selected wine has a high alcohol content is  48.6 %\n",
      "The probability that a randomly selected wine has a low sugar content is  58.4 %\n"
     ]
    }
   ],
   "source": [
    "print(\"The probability that a randomly selected wine is red is \", round(prob1*100, 2), \"%\")\n",
    "print(\"The probability that a randomly selected wine has a high alcohol content is \", round(prob2*100, 2), \"%\")\n",
    "print(\"The probability that a randomly selected wine has a low sugar content is \", round((1-prob3)*100, 2), \"%\")"
   ]
  },
  {
   "cell_type": "markdown",
   "id": "0345ea3a",
   "metadata": {},
   "source": [
    "#### Use the conditional probabilities found earlier to discuss\n",
    "\n",
    "##### Q: What a typical white wine might have as its alcohol and sugar content.\n",
    "A typical white wine might have high alcohol and high sugar.\n",
    "\n",
    "##### Q: What a typical red wine might have as its alcohol and sugar content.\n",
    "A typical red wine might have low alcohol and low sugar."
   ]
  },
  {
   "cell_type": "markdown",
   "id": "ee244351",
   "metadata": {},
   "source": [
    "Create side‐by‐side bar graphs for Type, one with an overlay of Alcohol_flag and the other with an overlay of Sugar_flag. Compare the graphs to the conditional probabilities you calculated."
   ]
  },
  {
   "cell_type": "code",
   "execution_count": 8,
   "id": "94cbfbd5",
   "metadata": {
    "scrolled": true
   },
   "outputs": [
    {
     "data": {
      "text/plain": [
       "<AxesSubplot:xlabel='Type'>"
      ]
     },
     "execution_count": 8,
     "metadata": {},
     "output_type": "execute_result"
    },
    {
     "data": {
      "image/png": "[encoded data removed]",
      "text/plain": [
       "<Figure size 432x288 with 1 Axes>"
      ]
     },
     "metadata": {
      "needs_background": "light"
     },
     "output_type": "display_data"
    }
   ],
   "source": [
    "crosstab_01 = pd.crosstab(wine_train['Type'], wine_train['Alcohol_flag'])\n",
    "crosstab_norm_01 = crosstab_01.div(crosstab_01.sum(1),axis = 0)\n",
    "crosstab_norm_01.plot(kind = 'bar', stacked = True)"
   ]
  },
  {
   "cell_type": "code",
   "execution_count": 9,
   "id": "f5c41964",
   "metadata": {},
   "outputs": [
    {
     "data": {
      "text/plain": [
       "<AxesSubplot:xlabel='Type'>"
      ]
     },
     "execution_count": 9,
     "metadata": {},
     "output_type": "execute_result"
    },
    {
     "data": {
      "image/png": "[encoded data removed]",
      "text/plain": [
       "<Figure size 432x288 with 1 Axes>"
      ]
     },
     "metadata": {
      "needs_background": "light"
     },
     "output_type": "display_data"
    }
   ],
   "source": [
    "crosstab_02 = pd.crosstab(wine_train['Type'], wine_train['Sugar_flag'])\n",
    "crosstab_norm_02 = crosstab_02.div(crosstab_02.sum(1),axis = 0)\n",
    "crosstab_norm_02.plot(kind = 'bar', stacked = True)"
   ]
  },
  {
   "cell_type": "markdown",
   "id": "631175d9",
   "metadata": {},
   "source": [
    "Compare with the conditional probabilities I calculated, the graphs showcase the same results."
   ]
  },
  {
   "cell_type": "markdown",
   "id": "69309806",
   "metadata": {},
   "source": [
    "#### Compute the posterior probability of Type = Red for a wine that is low in alcohol content and high in sugar content. Compute the posterior probability of Type = White for the same wine.\n",
    "\n",
    "#### Use your answers to the previous exercise to determine which type, red or white, is more probable for a wine with low alcohol and high sugar content. What would the Naïve Bayes classifier classify this wine as?"
   ]
  },
  {
   "cell_type": "code",
   "execution_count": 10,
   "id": "e7b51f85",
   "metadata": {},
   "outputs": [
    {
     "name": "stdout",
     "output_type": "stream",
     "text": [
      "P(Red|Low Alcohol & High Sugar) =  30.6 %\n",
      "P(White|Low Alcohol & High Sugar) =  65.1 %\n"
     ]
    }
   ],
   "source": [
    "prob8 = (1-prob4) * prob6 * prob1 / (1-prob2) / prob3\n",
    "prob9 = (1-prob5) * prob7 * (1-prob1) / (1-prob2) / prob3\n",
    "print(\"P(Red|Low Alcohol & High Sugar) = \", round(prob8*100,2), \"%\")\n",
    "print(\"P(White|Low Alcohol & High Sugar) = \", round(prob9*100,2), \"%\")"
   ]
  },
  {
   "cell_type": "markdown",
   "id": "bdbde5a4",
   "metadata": {},
   "source": [
    "Since the posterior probability of a low alcohol, high sugar wine being red is lower than the posterior probability of the same wine being white, the Naïve Bayes algorithm will classify the wine as White."
   ]
  },
  {
   "cell_type": "markdown",
   "id": "b9fecef4",
   "metadata": {},
   "source": [
    "#### Compute the posterior probability of Type = Red for a wine that is high in alcohol content and low in sugar content. Compute the posterior probability of Type = White for the same wine.\n",
    "\n",
    "#### Use your answers to the previous exercise to determine which type, red or white, is more probable for a wine with high alcohol and low sugar content. What would the Naïve Bayes classifier classify this wine as?"
   ]
  },
  {
   "cell_type": "code",
   "execution_count": 11,
   "id": "46537f2f",
   "metadata": {},
   "outputs": [
    {
     "name": "stdout",
     "output_type": "stream",
     "text": [
      "P(Red|High Alcohol & Low Sugar) =  58.99 %\n",
      "P(White|High Alcohol & Low Sugar) =  37.77 %\n"
     ]
    }
   ],
   "source": [
    "prob10 = prob4 * (1-prob6) * prob1 / prob2 / (1-prob3)\n",
    "prob11 = prob5 * (1-prob7) * (1-prob1) / prob2 / (1-prob3)\n",
    "print(\"P(Red|High Alcohol & Low Sugar) = \", round(prob10*100,2), \"%\")\n",
    "print(\"P(White|High Alcohol & Low Sugar) = \", round(prob11*100,2), \"%\")"
   ]
  },
  {
   "cell_type": "markdown",
   "id": "14329915",
   "metadata": {},
   "source": [
    "Since the posterior probability of a high alcohol, low sugar wine being red is higher than the posterior probability of the same wine being white, the Naïve Bayes algorithm will classify the wine as Red."
   ]
  },
  {
   "cell_type": "markdown",
   "id": "b4ff0396",
   "metadata": {},
   "source": [
    "#### Run the Naïve Bayes classifier to classify wines as white or red based on alcohol and sugar content."
   ]
  },
  {
   "cell_type": "code",
   "execution_count": 12,
   "id": "79c91cea",
   "metadata": {},
   "outputs": [],
   "source": [
    "wine_train['Type']= wine_train['Type'].replace({'Red': 1})\n",
    "wine_train['Type']= wine_train['Type'].replace({'White': 0})\n",
    "wine_train['Alcohol_flag']= wine_train['Alcohol_flag'].replace({'Low': 0})\n",
    "wine_train['Alcohol_flag']= wine_train['Alcohol_flag'].replace({'High': 1})\n",
    "wine_train['Sugar_flag']= wine_train['Sugar_flag'].replace({'Low': 0})\n",
    "wine_train['Sugar_flag']= wine_train['Sugar_flag'].replace({'High': 1})\n",
    "X_train = wine_train.drop(['Type'], axis =1)\n",
    "y_train = wine_train['Type']\n",
    "\n",
    "nb = GaussianNB().fit(X_train, y_train)"
   ]
  },
  {
   "cell_type": "code",
   "execution_count": 13,
   "id": "6997f8c4",
   "metadata": {},
   "outputs": [],
   "source": [
    "wine_test['Type']= wine_test['Type'].replace({'Red': 1})\n",
    "wine_test['Type']= wine_test['Type'].replace({'White': 0})\n",
    "wine_test['Alcohol_flag']= wine_test['Alcohol_flag'].replace({'Low': 0})\n",
    "wine_test['Alcohol_flag']= wine_test['Alcohol_flag'].replace({'High': 1})\n",
    "wine_test['Sugar_flag']= wine_test['Sugar_flag'].replace({'Low': 0})\n",
    "wine_test['Sugar_flag']= wine_test['Sugar_flag'].replace({'High': 1})\n",
    "X_test = wine_test.drop(['Type'], axis =1)\n",
    "y_test = wine_test['Type']"
   ]
  },
  {
   "cell_type": "markdown",
   "id": "7fe2633a",
   "metadata": {},
   "source": [
    "#### Evaluate the Naïve Bayes model on the wines_test data set. Display the results in a contingency table. Edit the row and column names of the table to make the table more readable. Include a total row and column."
   ]
  },
  {
   "cell_type": "code",
   "execution_count": 14,
   "id": "319cac23",
   "metadata": {},
   "outputs": [
    {
     "name": "stderr",
     "output_type": "stream",
     "text": [
      "/Users/sean/opt/anaconda3/lib/python3.9/site-packages/pandas/core/frame.py:5039: SettingWithCopyWarning: \n",
      "A value is trying to be set on a copy of a slice from a DataFrame\n",
      "\n",
      "See the caveats in the documentation: https://pandas.pydata.org/pandas-docs/stable/user_guide/indexing.html#returning-a-view-versus-a-copy\n",
      "  return super().rename(\n"
     ]
    },
    {
     "data": {
      "text/html": [
       "<div>\n",
       "<style scoped>\n",
       "    .dataframe tbody tr th:only-of-type {\n",
       "        vertical-align: middle;\n",
       "    }\n",
       "\n",
       "    .dataframe tbody tr th {\n",
       "        vertical-align: top;\n",
       "    }\n",
       "\n",
       "    .dataframe thead th {\n",
       "        text-align: right;\n",
       "    }\n",
       "</style>\n",
       "<table border=\"1\" class=\"dataframe\">\n",
       "  <thead>\n",
       "    <tr style=\"text-align: right;\">\n",
       "      <th>Actual</th>\n",
       "      <th>Red</th>\n",
       "      <th>White</th>\n",
       "      <th>All</th>\n",
       "    </tr>\n",
       "    <tr>\n",
       "      <th>Predict</th>\n",
       "      <th></th>\n",
       "      <th></th>\n",
       "      <th></th>\n",
       "    </tr>\n",
       "  </thead>\n",
       "  <tbody>\n",
       "    <tr>\n",
       "      <th>Red</th>\n",
       "      <td>464</td>\n",
       "      <td>678</td>\n",
       "      <td>1142</td>\n",
       "    </tr>\n",
       "    <tr>\n",
       "      <th>White</th>\n",
       "      <td>121</td>\n",
       "      <td>1082</td>\n",
       "      <td>1203</td>\n",
       "    </tr>\n",
       "    <tr>\n",
       "      <th>All</th>\n",
       "      <td>585</td>\n",
       "      <td>1760</td>\n",
       "      <td>2345</td>\n",
       "    </tr>\n",
       "  </tbody>\n",
       "</table>\n",
       "</div>"
      ],
      "text/plain": [
       "Actual   Red  White   All\n",
       "Predict                  \n",
       "Red      464    678  1142\n",
       "White    121   1082  1203\n",
       "All      585   1760  2345"
      ]
     },
     "execution_count": 14,
     "metadata": {},
     "output_type": "execute_result"
    }
   ],
   "source": [
    "y_predict = nb.predict(X_test)\n",
    "y_predict = pd.DataFrame(y_predict,index = y_test.index, columns = ['Predict'])\n",
    "y_test = wine_test[['Type']]\n",
    "y_test.rename(columns={'Type':'Actual'},inplace=True)\n",
    "df = y_predict.join(y_test)\n",
    "df['Predict']= df['Predict'].replace({1: 'Red'})\n",
    "df['Predict']= df['Predict'].replace({0: 'White'})\n",
    "df['Actual']= df['Actual'].replace({1: 'Red'})\n",
    "df['Actual']= df['Actual'].replace({0: 'White'})\n",
    "ct3 = pd.crosstab(df.Predict, df.Actual, margins=True)\n",
    "ct3"
   ]
  },
  {
   "cell_type": "markdown",
   "id": "feec1bac",
   "metadata": {},
   "source": [
    "#### According to your table in the previous exercise, find the following values for the Naïve Bayes model:\n",
    "\n",
    "- Accuracy\n",
    "- Error rate"
   ]
  },
  {
   "cell_type": "code",
   "execution_count": 15,
   "id": "7f6c6007",
   "metadata": {},
   "outputs": [
    {
     "name": "stdout",
     "output_type": "stream",
     "text": [
      "The Accuracy of the Naive Bayes model is  65.93 %\n",
      "The Error Rate of the Naive Bayes model is  34.07 %\n"
     ]
    }
   ],
   "source": [
    "accuracy = (ct3['Red']['Red']+ct3['White']['White'])/ct3['All']['All']\n",
    "error_rate = 1-accuracy\n",
    "print(\"The Accuracy of the Naive Bayes model is \", round((accuracy*100),2), \"%\")\n",
    "print(\"The Error Rate of the Naive Bayes model is \", round((error_rate*100),2), \"%\")"
   ]
  },
  {
   "cell_type": "markdown",
   "id": "e68b4d45",
   "metadata": {},
   "source": [
    "#### According to your contingency table, find the following values for the Naïve Bayes model:\n",
    "\n",
    "- How often it correctly classifies red wines.\n",
    "- How often it correctly classifies white wines."
   ]
  },
  {
   "cell_type": "code",
   "execution_count": 16,
   "id": "d97a73bc",
   "metadata": {},
   "outputs": [
    {
     "name": "stdout",
     "output_type": "stream",
     "text": [
      "The Naive Bayes model predicts  40.63 % red wines correctly.\n",
      "The Naive Bayes model predicts  89.94 % white wines correctly.\n"
     ]
    }
   ],
   "source": [
    "red = ct3['Red']['Red']/ct3['All']['Red']\n",
    "white = ct3['White']['White']/ct3['All']['White']\n",
    "print(\"The Naive Bayes model predicts \", round((red*100),2), \"% red wines correctly.\")\n",
    "print(\"The Naive Bayes model predicts \", round((white*100),2), \"% white wines correctly.\")"
   ]
  },
  {
   "cell_type": "markdown",
   "id": "19a5cb88",
   "metadata": {},
   "source": [
    "#### Name a few classification algorithm, choose one and use it on a dataset of your choosing.\n",
    "\n",
    "- Decision Tree\n",
    "- Random Forest\n",
    "- Neural Network\n",
    "- Logistic Regression"
   ]
  },
  {
   "cell_type": "markdown",
   "id": "e881cb39",
   "metadata": {},
   "source": [
    "#### For this case, I will chose Random Forest for Classification\n",
    "\n",
    "First, I will create a synthetic binary classification problem with 1,000 examples and 20 input features."
   ]
  },
  {
   "cell_type": "code",
   "execution_count": 17,
   "id": "e5f1fecb",
   "metadata": {},
   "outputs": [
    {
     "name": "stdout",
     "output_type": "stream",
     "text": [
      "(1000, 20) (1000,)\n"
     ]
    }
   ],
   "source": [
    "# test classification dataset\n",
    "from sklearn.datasets import make_classification\n",
    "# define dataset\n",
    "X, y = make_classification(n_samples=1000, n_features=20, n_informative=15, n_redundant=5, random_state=3)\n",
    "# summarize the dataset\n",
    "print(X.shape, y.shape)"
   ]
  },
  {
   "cell_type": "code",
   "execution_count": 18,
   "id": "eca17992",
   "metadata": {},
   "outputs": [],
   "source": [
    "# evaluate random forest algorithm for classification\n",
    "from numpy import mean\n",
    "from numpy import std\n",
    "from sklearn.datasets import make_classification\n",
    "from sklearn.model_selection import cross_val_score\n",
    "from sklearn.model_selection import RepeatedStratifiedKFold\n",
    "from sklearn.ensemble import RandomForestClassifier"
   ]
  },
  {
   "cell_type": "code",
   "execution_count": 19,
   "id": "cb2aed65",
   "metadata": {},
   "outputs": [
    {
     "name": "stdout",
     "output_type": "stream",
     "text": [
      "Accuracy: 0.903 (0.023)\n"
     ]
    }
   ],
   "source": [
    "# define dataset\n",
    "X, y = make_classification(n_samples=1000, n_features=20, n_informative=15, n_redundant=5, random_state=3)\n",
    "# define the model\n",
    "model = RandomForestClassifier()\n",
    "# evaluate the model\n",
    "cv = RepeatedStratifiedKFold(n_splits=10, n_repeats=3, random_state=1)\n",
    "n_scores = cross_val_score(model, X, y, scoring='accuracy', cv=cv, n_jobs=-1, error_score='raise')\n",
    "# report performance\n",
    "print('Accuracy: %.3f (%.3f)' % (mean(n_scores), std(n_scores)))"
   ]
  },
  {
   "cell_type": "markdown",
   "id": "2994ab75",
   "metadata": {},
   "source": [
    "In this case, the random forest ensemble with default hyperparameters achieves a classification accuracy of about 90.5%."
   ]
  },
  {
   "cell_type": "markdown",
   "id": "cb731221",
   "metadata": {},
   "source": [
    "#### Apply ANN and decision tree algorithm on the wine dataset and compare the result? which one is better and why?"
   ]
  },
  {
   "cell_type": "code",
   "execution_count": 20,
   "id": "c23b389d",
   "metadata": {},
   "outputs": [],
   "source": [
    "X_train = wine_train.drop(['Type'], axis =1)\n",
    "y_train = wine_train['Type']\n",
    "X_test = wine_test.drop(['Type'], axis =1)\n",
    "y_test = wine_test['Type']"
   ]
  },
  {
   "cell_type": "code",
   "execution_count": 21,
   "id": "ce477311",
   "metadata": {},
   "outputs": [
    {
     "name": "stdout",
     "output_type": "stream",
     "text": [
      "Accuracy = 0.6593\n"
     ]
    }
   ],
   "source": [
    "# Multi-layer Perceptron classifier\n",
    "nn = MLPClassifier(random_state=42).fit(X_train, y_train)\n",
    "y_pred = nn.predict(X_test)\n",
    "print('Accuracy =', round(np.mean(y_pred == y_test), 4))"
   ]
  },
  {
   "cell_type": "code",
   "execution_count": 22,
   "id": "c27a0298",
   "metadata": {},
   "outputs": [
    {
     "name": "stdout",
     "output_type": "stream",
     "text": [
      "Accuracy = 0.6593\n"
     ]
    }
   ],
   "source": [
    "# decision tree\n",
    "dt = DecisionTreeClassifier(random_state=42).fit(X_train, y_train)\n",
    "y_pred = dt.predict(X_test)\n",
    "print('Accuracy =', round(np.mean(y_pred == y_test), 4))"
   ]
  },
  {
   "cell_type": "markdown",
   "id": "69f22a42",
   "metadata": {},
   "source": [
    "The accuracy for both model are the same due to the small number (only two) of predictors, as well as the type (both of them are binary)."
   ]
  }
 ],
 "metadata": {
  "kernelspec": {
   "display_name": "Python 3 (ipykernel)",
   "language": "python",
   "name": "python3"
  },
  "language_info": {
   "codemirror_mode": {
    "name": "ipython",
    "version": 3
   },
   "file_extension": ".py",
   "mimetype": "text/x-python",
   "name": "python",
   "nbconvert_exporter": "python",
   "pygments_lexer": "ipython3",
   "version": "3.9.7"
  }
 },
 "nbformat": 4,
 "nbformat_minor": 5
}
