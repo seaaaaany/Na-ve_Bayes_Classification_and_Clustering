{
 "cells": [
  {
   "cell_type": "markdown",
   "id": "eaf752fb",
   "metadata": {},
   "source": [
    "### With what information does Bayes Theorem update our previous knowledge about the data parameters?\n",
    "\n",
    "1. By combining our previous knowledge (called the prior distribution),\n",
    "2. With new information obtained from observed data,\n",
    "3. Resulting in updated parameter knowledge (called the posterior distribution)."
   ]
  },
  {
   "cell_type": "markdown",
   "id": "d5a9da6d",
   "metadata": {},
   "source": [
    "### What does the prior probability represent?\n",
    "\n",
    "Prior probability, in Bayesian statistical inference, is the probability of an event before new data is collected. This is the best rational assessment of the probability of an outcome based on the current knowledge before an experiment is performed. \n",
    "\n",
    "It often simply called the prior, of an uncertain quantity is the probability distribution that would express one's beliefs about this quantity before some evidence is taken into account."
   ]
  },
  {
   "cell_type": "code",
   "execution_count": null,
   "id": "2e77882e",
   "metadata": {},
   "outputs": [],
   "source": []
  }
 ],
 "metadata": {
  "kernelspec": {
   "display_name": "Python 3 (ipykernel)",
   "language": "python",
   "name": "python3"
  },
  "language_info": {
   "codemirror_mode": {
    "name": "ipython",
    "version": 3
   },
   "file_extension": ".py",
   "mimetype": "text/x-python",
   "name": "python",
   "nbconvert_exporter": "python",
   "pygments_lexer": "ipython3",
   "version": "3.9.7"
  }
 },
 "nbformat": 4,
 "nbformat_minor": 5
}
