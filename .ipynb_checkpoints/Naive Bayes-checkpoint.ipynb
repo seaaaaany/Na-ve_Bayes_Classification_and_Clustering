{
 "cells": [
  {
   "cell_type": "code",
   "execution_count": 1,
   "id": "8a002332",
   "metadata": {},
   "outputs": [],
   "source": [
    "import matplotlib.pyplot as plt  \n",
    "import pandas as pd  \n",
    "#importing the necessary packages  \n",
    "from sklearn.model_selection import train_test_split  \n",
    "from sklearn.naive_bayes import GaussianNB \n",
    "from sklearn.naive_bayes import MultinomialNB \n",
    "\n",
    "from inspect import signature\n",
    "\n",
    "import sklearn\n",
    "from sklearn import linear_model, dummy, metrics\n",
    "from sklearn.dummy import DummyClassifier\n",
    "from sklearn.metrics import *\n",
    "\n",
    "import seaborn as sns"
   ]
  },
  {
   "cell_type": "code",
   "execution_count": 2,
   "id": "2f4a293e",
   "metadata": {},
   "outputs": [],
   "source": [
    "import ssl\n",
    "\n",
    "ssl._create_default_https_context = ssl._create_unverified_context"
   ]
  },
  {
   "cell_type": "code",
   "execution_count": 3,
   "id": "5c1d61dc",
   "metadata": {},
   "outputs": [
    {
     "data": {
      "text/html": [
       "<div>\n",
       "<style scoped>\n",
       "    .dataframe tbody tr th:only-of-type {\n",
       "        vertical-align: middle;\n",
       "    }\n",
       "\n",
       "    .dataframe tbody tr th {\n",
       "        vertical-align: top;\n",
       "    }\n",
       "\n",
       "    .dataframe thead th {\n",
       "        text-align: right;\n",
       "    }\n",
       "</style>\n",
       "<table border=\"1\" class=\"dataframe\">\n",
       "  <thead>\n",
       "    <tr style=\"text-align: right;\">\n",
       "      <th></th>\n",
       "      <th>sepal_length</th>\n",
       "      <th>sepal_width</th>\n",
       "      <th>petal_length</th>\n",
       "      <th>petal_width</th>\n",
       "      <th>type</th>\n",
       "    </tr>\n",
       "  </thead>\n",
       "  <tbody>\n",
       "    <tr>\n",
       "      <th>0</th>\n",
       "      <td>5.1</td>\n",
       "      <td>3.5</td>\n",
       "      <td>1.4</td>\n",
       "      <td>0.2</td>\n",
       "      <td>Iris-setosa</td>\n",
       "    </tr>\n",
       "    <tr>\n",
       "      <th>1</th>\n",
       "      <td>4.9</td>\n",
       "      <td>3.0</td>\n",
       "      <td>1.4</td>\n",
       "      <td>0.2</td>\n",
       "      <td>Iris-setosa</td>\n",
       "    </tr>\n",
       "    <tr>\n",
       "      <th>2</th>\n",
       "      <td>4.7</td>\n",
       "      <td>3.2</td>\n",
       "      <td>1.3</td>\n",
       "      <td>0.2</td>\n",
       "      <td>Iris-setosa</td>\n",
       "    </tr>\n",
       "    <tr>\n",
       "      <th>3</th>\n",
       "      <td>4.6</td>\n",
       "      <td>3.1</td>\n",
       "      <td>1.5</td>\n",
       "      <td>0.2</td>\n",
       "      <td>Iris-setosa</td>\n",
       "    </tr>\n",
       "    <tr>\n",
       "      <th>4</th>\n",
       "      <td>5.0</td>\n",
       "      <td>3.6</td>\n",
       "      <td>1.4</td>\n",
       "      <td>0.2</td>\n",
       "      <td>Iris-setosa</td>\n",
       "    </tr>\n",
       "  </tbody>\n",
       "</table>\n",
       "</div>"
      ],
      "text/plain": [
       "   sepal_length  sepal_width  petal_length  petal_width         type\n",
       "0           5.1          3.5           1.4          0.2  Iris-setosa\n",
       "1           4.9          3.0           1.4          0.2  Iris-setosa\n",
       "2           4.7          3.2           1.3          0.2  Iris-setosa\n",
       "3           4.6          3.1           1.5          0.2  Iris-setosa\n",
       "4           5.0          3.6           1.4          0.2  Iris-setosa"
      ]
     },
     "execution_count": 3,
     "metadata": {},
     "output_type": "execute_result"
    }
   ],
   "source": [
    "#downloading the iris dataset, splitting it into train set and validation set \n",
    "url = 'https://archive.ics.uci.edu/ml/machine-learning-databases/iris/iris.data'\n",
    "col=['sepal_length','sepal_width','petal_length','petal_width','type']\n",
    "\n",
    "df = pd.read_csv(url, names = col)\n",
    "\n",
    "# Print first 5 rows of the dataframe\n",
    "df.head()"
   ]
  },
  {
   "cell_type": "code",
   "execution_count": 4,
   "id": "c939f944",
   "metadata": {},
   "outputs": [
    {
     "data": {
      "text/plain": [
       "array(['Iris-setosa', 'Iris-versicolor', 'Iris-virginica'], dtype=object)"
      ]
     },
     "execution_count": 4,
     "metadata": {},
     "output_type": "execute_result"
    }
   ],
   "source": [
    "df['type'].unique()"
   ]
  },
  {
   "cell_type": "code",
   "execution_count": 5,
   "id": "aa815218",
   "metadata": {},
   "outputs": [
    {
     "data": {
      "text/html": [
       "<div>\n",
       "<style scoped>\n",
       "    .dataframe tbody tr th:only-of-type {\n",
       "        vertical-align: middle;\n",
       "    }\n",
       "\n",
       "    .dataframe tbody tr th {\n",
       "        vertical-align: top;\n",
       "    }\n",
       "\n",
       "    .dataframe thead th {\n",
       "        text-align: right;\n",
       "    }\n",
       "</style>\n",
       "<table border=\"1\" class=\"dataframe\">\n",
       "  <thead>\n",
       "    <tr style=\"text-align: right;\">\n",
       "      <th></th>\n",
       "      <th>sepal_length</th>\n",
       "      <th>sepal_width</th>\n",
       "      <th>petal_length</th>\n",
       "      <th>petal_width</th>\n",
       "      <th>type</th>\n",
       "    </tr>\n",
       "  </thead>\n",
       "  <tbody>\n",
       "    <tr>\n",
       "      <th>0</th>\n",
       "      <td>5.1</td>\n",
       "      <td>3.5</td>\n",
       "      <td>1.4</td>\n",
       "      <td>0.2</td>\n",
       "      <td>0</td>\n",
       "    </tr>\n",
       "    <tr>\n",
       "      <th>1</th>\n",
       "      <td>4.9</td>\n",
       "      <td>3.0</td>\n",
       "      <td>1.4</td>\n",
       "      <td>0.2</td>\n",
       "      <td>0</td>\n",
       "    </tr>\n",
       "    <tr>\n",
       "      <th>2</th>\n",
       "      <td>4.7</td>\n",
       "      <td>3.2</td>\n",
       "      <td>1.3</td>\n",
       "      <td>0.2</td>\n",
       "      <td>0</td>\n",
       "    </tr>\n",
       "    <tr>\n",
       "      <th>3</th>\n",
       "      <td>4.6</td>\n",
       "      <td>3.1</td>\n",
       "      <td>1.5</td>\n",
       "      <td>0.2</td>\n",
       "      <td>0</td>\n",
       "    </tr>\n",
       "    <tr>\n",
       "      <th>4</th>\n",
       "      <td>5.0</td>\n",
       "      <td>3.6</td>\n",
       "      <td>1.4</td>\n",
       "      <td>0.2</td>\n",
       "      <td>0</td>\n",
       "    </tr>\n",
       "  </tbody>\n",
       "</table>\n",
       "</div>"
      ],
      "text/plain": [
       "   sepal_length  sepal_width  petal_length  petal_width  type\n",
       "0           5.1          3.5           1.4          0.2     0\n",
       "1           4.9          3.0           1.4          0.2     0\n",
       "2           4.7          3.2           1.3          0.2     0\n",
       "3           4.6          3.1           1.5          0.2     0\n",
       "4           5.0          3.6           1.4          0.2     0"
      ]
     },
     "execution_count": 5,
     "metadata": {},
     "output_type": "execute_result"
    }
   ],
   "source": [
    "df2 = df\n",
    "df2['type']  = df2['type'].replace({'Iris-setosa': 0})\n",
    "df2['type']  = df2['type'].replace({'Iris-versicolor': 1})\n",
    "df2['type']  = df2['type'].replace({'Iris-virginica': 2})\n",
    "df2.head()"
   ]
  },
  {
   "cell_type": "code",
   "execution_count": 6,
   "id": "cc98a59e",
   "metadata": {},
   "outputs": [
    {
     "data": {
      "text/plain": [
       "Index(['sepal_length', 'sepal_width', 'petal_length', 'petal_width', 'type'], dtype='object')"
      ]
     },
     "execution_count": 6,
     "metadata": {},
     "output_type": "execute_result"
    }
   ],
   "source": [
    "df2.columns"
   ]
  },
  {
   "cell_type": "code",
   "execution_count": 7,
   "id": "f64d18c3",
   "metadata": {},
   "outputs": [],
   "source": [
    "X = df2[['sepal_length', 'sepal_width', 'petal_length', 'petal_width']] #predictors\n",
    "\n",
    "y = df2[['type']] #target"
   ]
  },
  {
   "cell_type": "code",
   "execution_count": 8,
   "id": "c25f3eb1",
   "metadata": {},
   "outputs": [],
   "source": [
    "X_train, X_test, y_train, y_test = train_test_split(X, y, random_state=0)"
   ]
  },
  {
   "cell_type": "code",
   "execution_count": 9,
   "id": "7be93de8",
   "metadata": {},
   "outputs": [
    {
     "data": {
      "text/html": [
       "<div>\n",
       "<style scoped>\n",
       "    .dataframe tbody tr th:only-of-type {\n",
       "        vertical-align: middle;\n",
       "    }\n",
       "\n",
       "    .dataframe tbody tr th {\n",
       "        vertical-align: top;\n",
       "    }\n",
       "\n",
       "    .dataframe thead th {\n",
       "        text-align: right;\n",
       "    }\n",
       "</style>\n",
       "<table border=\"1\" class=\"dataframe\">\n",
       "  <thead>\n",
       "    <tr style=\"text-align: right;\">\n",
       "      <th>sepal_length</th>\n",
       "      <th>4.3</th>\n",
       "      <th>4.4</th>\n",
       "      <th>4.5</th>\n",
       "      <th>4.6</th>\n",
       "      <th>4.7</th>\n",
       "      <th>4.8</th>\n",
       "      <th>4.9</th>\n",
       "      <th>5.0</th>\n",
       "      <th>5.1</th>\n",
       "      <th>5.2</th>\n",
       "      <th>...</th>\n",
       "      <th>6.9</th>\n",
       "      <th>7.0</th>\n",
       "      <th>7.1</th>\n",
       "      <th>7.2</th>\n",
       "      <th>7.3</th>\n",
       "      <th>7.4</th>\n",
       "      <th>7.6</th>\n",
       "      <th>7.7</th>\n",
       "      <th>7.9</th>\n",
       "      <th>Total</th>\n",
       "    </tr>\n",
       "    <tr>\n",
       "      <th>type</th>\n",
       "      <th></th>\n",
       "      <th></th>\n",
       "      <th></th>\n",
       "      <th></th>\n",
       "      <th></th>\n",
       "      <th></th>\n",
       "      <th></th>\n",
       "      <th></th>\n",
       "      <th></th>\n",
       "      <th></th>\n",
       "      <th></th>\n",
       "      <th></th>\n",
       "      <th></th>\n",
       "      <th></th>\n",
       "      <th></th>\n",
       "      <th></th>\n",
       "      <th></th>\n",
       "      <th></th>\n",
       "      <th></th>\n",
       "      <th></th>\n",
       "      <th></th>\n",
       "    </tr>\n",
       "  </thead>\n",
       "  <tbody>\n",
       "    <tr>\n",
       "      <th>0</th>\n",
       "      <td>1</td>\n",
       "      <td>3</td>\n",
       "      <td>1</td>\n",
       "      <td>4</td>\n",
       "      <td>2</td>\n",
       "      <td>5</td>\n",
       "      <td>4</td>\n",
       "      <td>8</td>\n",
       "      <td>8</td>\n",
       "      <td>3</td>\n",
       "      <td>...</td>\n",
       "      <td>0</td>\n",
       "      <td>0</td>\n",
       "      <td>0</td>\n",
       "      <td>0</td>\n",
       "      <td>0</td>\n",
       "      <td>0</td>\n",
       "      <td>0</td>\n",
       "      <td>0</td>\n",
       "      <td>0</td>\n",
       "      <td>50</td>\n",
       "    </tr>\n",
       "    <tr>\n",
       "      <th>1</th>\n",
       "      <td>0</td>\n",
       "      <td>0</td>\n",
       "      <td>0</td>\n",
       "      <td>0</td>\n",
       "      <td>0</td>\n",
       "      <td>0</td>\n",
       "      <td>1</td>\n",
       "      <td>2</td>\n",
       "      <td>1</td>\n",
       "      <td>1</td>\n",
       "      <td>...</td>\n",
       "      <td>1</td>\n",
       "      <td>1</td>\n",
       "      <td>0</td>\n",
       "      <td>0</td>\n",
       "      <td>0</td>\n",
       "      <td>0</td>\n",
       "      <td>0</td>\n",
       "      <td>0</td>\n",
       "      <td>0</td>\n",
       "      <td>50</td>\n",
       "    </tr>\n",
       "    <tr>\n",
       "      <th>2</th>\n",
       "      <td>0</td>\n",
       "      <td>0</td>\n",
       "      <td>0</td>\n",
       "      <td>0</td>\n",
       "      <td>0</td>\n",
       "      <td>0</td>\n",
       "      <td>1</td>\n",
       "      <td>0</td>\n",
       "      <td>0</td>\n",
       "      <td>0</td>\n",
       "      <td>...</td>\n",
       "      <td>3</td>\n",
       "      <td>0</td>\n",
       "      <td>1</td>\n",
       "      <td>3</td>\n",
       "      <td>1</td>\n",
       "      <td>1</td>\n",
       "      <td>1</td>\n",
       "      <td>4</td>\n",
       "      <td>1</td>\n",
       "      <td>50</td>\n",
       "    </tr>\n",
       "    <tr>\n",
       "      <th>Total</th>\n",
       "      <td>1</td>\n",
       "      <td>3</td>\n",
       "      <td>1</td>\n",
       "      <td>4</td>\n",
       "      <td>2</td>\n",
       "      <td>5</td>\n",
       "      <td>6</td>\n",
       "      <td>10</td>\n",
       "      <td>9</td>\n",
       "      <td>4</td>\n",
       "      <td>...</td>\n",
       "      <td>4</td>\n",
       "      <td>1</td>\n",
       "      <td>1</td>\n",
       "      <td>3</td>\n",
       "      <td>1</td>\n",
       "      <td>1</td>\n",
       "      <td>1</td>\n",
       "      <td>4</td>\n",
       "      <td>1</td>\n",
       "      <td>150</td>\n",
       "    </tr>\n",
       "  </tbody>\n",
       "</table>\n",
       "<p>4 rows × 36 columns</p>\n",
       "</div>"
      ],
      "text/plain": [
       "sepal_length  4.3  4.4  4.5  4.6  4.7  4.8  4.9  5.0  5.1  5.2  ...  6.9  7.0  \\\n",
       "type                                                            ...             \n",
       "0               1    3    1    4    2    5    4    8    8    3  ...    0    0   \n",
       "1               0    0    0    0    0    0    1    2    1    1  ...    1    1   \n",
       "2               0    0    0    0    0    0    1    0    0    0  ...    3    0   \n",
       "Total           1    3    1    4    2    5    6   10    9    4  ...    4    1   \n",
       "\n",
       "sepal_length  7.1  7.2  7.3  7.4  7.6  7.7  7.9  Total  \n",
       "type                                                    \n",
       "0               0    0    0    0    0    0    0     50  \n",
       "1               0    0    0    0    0    0    0     50  \n",
       "2               1    3    1    1    1    4    1     50  \n",
       "Total           1    3    1    1    1    4    1    150  \n",
       "\n",
       "[4 rows x 36 columns]"
      ]
     },
     "execution_count": 9,
     "metadata": {},
     "output_type": "execute_result"
    }
   ],
   "source": [
    "t1 = pd.crosstab(df2['type'], df2['sepal_length'])\n",
    "t1['Total'] = t1.sum(axis=1)\n",
    "t1.loc['Total'] = t1.sum()\n",
    "t1"
   ]
  },
  {
   "cell_type": "code",
   "execution_count": 10,
   "id": "ba09a75d",
   "metadata": {},
   "outputs": [
    {
     "data": {
      "text/plain": [
       "<AxesSubplot:xlabel='sepal_length'>"
      ]
     },
     "execution_count": 10,
     "metadata": {},
     "output_type": "execute_result"
    },
    {
     "data": {
      "image/png": "[encoded data removed]",
      "text/plain": [
       "<Figure size 432x288 with 1 Axes>"
      ]
     },
     "metadata": {
      "needs_background": "light"
     },
     "output_type": "display_data"
    }
   ],
   "source": [
    "t1_plot = pd.crosstab(df2['sepal_length'], df2['type'])\n",
    "t1_plot.plot(kind='bar', stacked = True)"
   ]
  },
  {
   "cell_type": "code",
   "execution_count": 11,
   "id": "b7fc3bc3",
   "metadata": {},
   "outputs": [
    {
     "name": "stdout",
     "output_type": "stream",
     "text": [
      "Accuracy NB: 1.00\n"
     ]
    },
    {
     "name": "stderr",
     "output_type": "stream",
     "text": [
      "/Users/sean/opt/anaconda3/lib/python3.9/site-packages/sklearn/utils/validation.py:63: DataConversionWarning: A column-vector y was passed when a 1d array was expected. Please change the shape of y to (n_samples, ), for example using ravel().\n",
      "  return f(*args, **kwargs)\n"
     ]
    }
   ],
   "source": [
    "NB = GaussianNB()  \n",
    "nb_01 = NB.fit(X_train, y_train)   \n",
    "y_predict = nb_01.predict(X_test)  \n",
    "print(\"Accuracy NB: {:.2f}\".format(NB.score(X_test, y_test)))"
   ]
  },
  {
   "cell_type": "code",
   "execution_count": 12,
   "id": "a292e487",
   "metadata": {},
   "outputs": [
    {
     "data": {
      "text/plain": [
       "Int64Index([114,  62,  33, 107,   7, 100,  40,  86,  76,  71, 134,  51,  73,\n",
       "             54,  63,  37,  78,  90,  45,  16, 121,  66,  24,   8, 126,  22,\n",
       "             44,  97,  93,  26, 137,  84,  27, 127, 132,  59,  18,  83],\n",
       "           dtype='int64')"
      ]
     },
     "execution_count": 12,
     "metadata": {},
     "output_type": "execute_result"
    }
   ],
   "source": [
    "y_test.index"
   ]
  },
  {
   "cell_type": "code",
   "execution_count": 13,
   "id": "bb9036db",
   "metadata": {},
   "outputs": [],
   "source": [
    "y_predict = pd.DataFrame(y_predict,index = y_test.index, columns = ['predict'])"
   ]
  },
  {
   "cell_type": "code",
   "execution_count": 14,
   "id": "ed5da9ca",
   "metadata": {},
   "outputs": [
    {
     "data": {
      "text/html": [
       "<div>\n",
       "<style scoped>\n",
       "    .dataframe tbody tr th:only-of-type {\n",
       "        vertical-align: middle;\n",
       "    }\n",
       "\n",
       "    .dataframe tbody tr th {\n",
       "        vertical-align: top;\n",
       "    }\n",
       "\n",
       "    .dataframe thead th {\n",
       "        text-align: right;\n",
       "    }\n",
       "</style>\n",
       "<table border=\"1\" class=\"dataframe\">\n",
       "  <thead>\n",
       "    <tr style=\"text-align: right;\">\n",
       "      <th></th>\n",
       "      <th>predict</th>\n",
       "    </tr>\n",
       "  </thead>\n",
       "  <tbody>\n",
       "    <tr>\n",
       "      <th>114</th>\n",
       "      <td>2</td>\n",
       "    </tr>\n",
       "    <tr>\n",
       "      <th>62</th>\n",
       "      <td>1</td>\n",
       "    </tr>\n",
       "    <tr>\n",
       "      <th>33</th>\n",
       "      <td>0</td>\n",
       "    </tr>\n",
       "    <tr>\n",
       "      <th>107</th>\n",
       "      <td>2</td>\n",
       "    </tr>\n",
       "    <tr>\n",
       "      <th>7</th>\n",
       "      <td>0</td>\n",
       "    </tr>\n",
       "  </tbody>\n",
       "</table>\n",
       "</div>"
      ],
      "text/plain": [
       "     predict\n",
       "114        2\n",
       "62         1\n",
       "33         0\n",
       "107        2\n",
       "7          0"
      ]
     },
     "execution_count": 14,
     "metadata": {},
     "output_type": "execute_result"
    }
   ],
   "source": [
    "y_predict.head()"
   ]
  },
  {
   "cell_type": "code",
   "execution_count": 15,
   "id": "027507ed",
   "metadata": {},
   "outputs": [
    {
     "data": {
      "text/html": [
       "<div>\n",
       "<style scoped>\n",
       "    .dataframe tbody tr th:only-of-type {\n",
       "        vertical-align: middle;\n",
       "    }\n",
       "\n",
       "    .dataframe tbody tr th {\n",
       "        vertical-align: top;\n",
       "    }\n",
       "\n",
       "    .dataframe thead th {\n",
       "        text-align: right;\n",
       "    }\n",
       "</style>\n",
       "<table border=\"1\" class=\"dataframe\">\n",
       "  <thead>\n",
       "    <tr style=\"text-align: right;\">\n",
       "      <th></th>\n",
       "      <th>type</th>\n",
       "    </tr>\n",
       "  </thead>\n",
       "  <tbody>\n",
       "    <tr>\n",
       "      <th>114</th>\n",
       "      <td>2</td>\n",
       "    </tr>\n",
       "    <tr>\n",
       "      <th>62</th>\n",
       "      <td>1</td>\n",
       "    </tr>\n",
       "    <tr>\n",
       "      <th>33</th>\n",
       "      <td>0</td>\n",
       "    </tr>\n",
       "    <tr>\n",
       "      <th>107</th>\n",
       "      <td>2</td>\n",
       "    </tr>\n",
       "    <tr>\n",
       "      <th>7</th>\n",
       "      <td>0</td>\n",
       "    </tr>\n",
       "  </tbody>\n",
       "</table>\n",
       "</div>"
      ],
      "text/plain": [
       "     type\n",
       "114     2\n",
       "62      1\n",
       "33      0\n",
       "107     2\n",
       "7       0"
      ]
     },
     "execution_count": 15,
     "metadata": {},
     "output_type": "execute_result"
    }
   ],
   "source": [
    "y_test.head()"
   ]
  },
  {
   "cell_type": "code",
   "execution_count": 16,
   "id": "abd6d099",
   "metadata": {},
   "outputs": [
    {
     "data": {
      "text/html": [
       "<div>\n",
       "<style scoped>\n",
       "    .dataframe tbody tr th:only-of-type {\n",
       "        vertical-align: middle;\n",
       "    }\n",
       "\n",
       "    .dataframe tbody tr th {\n",
       "        vertical-align: top;\n",
       "    }\n",
       "\n",
       "    .dataframe thead th {\n",
       "        text-align: right;\n",
       "    }\n",
       "</style>\n",
       "<table border=\"1\" class=\"dataframe\">\n",
       "  <thead>\n",
       "    <tr style=\"text-align: right;\">\n",
       "      <th></th>\n",
       "      <th>type</th>\n",
       "      <th>predict</th>\n",
       "    </tr>\n",
       "  </thead>\n",
       "  <tbody>\n",
       "    <tr>\n",
       "      <th>114</th>\n",
       "      <td>2.0</td>\n",
       "      <td>NaN</td>\n",
       "    </tr>\n",
       "    <tr>\n",
       "      <th>62</th>\n",
       "      <td>1.0</td>\n",
       "      <td>NaN</td>\n",
       "    </tr>\n",
       "    <tr>\n",
       "      <th>33</th>\n",
       "      <td>0.0</td>\n",
       "      <td>NaN</td>\n",
       "    </tr>\n",
       "    <tr>\n",
       "      <th>107</th>\n",
       "      <td>2.0</td>\n",
       "      <td>NaN</td>\n",
       "    </tr>\n",
       "    <tr>\n",
       "      <th>7</th>\n",
       "      <td>0.0</td>\n",
       "      <td>NaN</td>\n",
       "    </tr>\n",
       "  </tbody>\n",
       "</table>\n",
       "</div>"
      ],
      "text/plain": [
       "     type  predict\n",
       "114   2.0      NaN\n",
       "62    1.0      NaN\n",
       "33    0.0      NaN\n",
       "107   2.0      NaN\n",
       "7     0.0      NaN"
      ]
     },
     "execution_count": 16,
     "metadata": {},
     "output_type": "execute_result"
    }
   ],
   "source": [
    "dftest = pd.concat([y_test, y_predict])\n",
    "df3 = dftest.head(25)\n",
    "df3.head()"
   ]
  },
  {
   "cell_type": "code",
   "execution_count": 17,
   "id": "5a462777",
   "metadata": {},
   "outputs": [],
   "source": [
    "#Build a \"dummy\" classifier that predicts every observation to be the most frequent class, in this case 'no-exit')\n",
    "dummy = DummyClassifier(strategy=  \"prior\")#, Constant = 1)\n",
    "dumb = dummy.fit(X_train,y_train)\n",
    "dumb_pred = dumb.predict(X_test)\n",
    "dumb_pred_prob = dumb.predict_proba(X_test)"
   ]
  },
  {
   "cell_type": "code",
   "execution_count": 18,
   "id": "172499d1",
   "metadata": {},
   "outputs": [
    {
     "name": "stdout",
     "output_type": "stream",
     "text": [
      "Test accuracy (Naive Bayes) = 1.0\n",
      "\n",
      "Test accuracy (Dummy Classifier) = 0.23684210526315788\n"
     ]
    }
   ],
   "source": [
    "print(\"Test accuracy (Naive Bayes) =\", nb_01.score(X_test,y_test), end=\"\\n\\n\")\n",
    "\n",
    "print(\"Test accuracy (Dummy Classifier) =\", dumb.score(dumb_pred,y_test))"
   ]
  },
  {
   "cell_type": "code",
   "execution_count": 19,
   "id": "9a9e9cc7",
   "metadata": {},
   "outputs": [
    {
     "data": {
      "image/png": "[encoded data removed]",
      "text/plain": [
       "<Figure size 504x504 with 1 Axes>"
      ]
     },
     "metadata": {
      "needs_background": "light"
     },
     "output_type": "display_data"
    }
   ],
   "source": [
    "#generate confusion matrix for Dummy classifier\n",
    "cm_dummy = confusion_matrix(y_test, dumb_pred)\n",
    "#put it into a dataframe for seaborn plot function\n",
    "cm_dummy_df = pd.DataFrame(cm_dummy)\n",
    "\n",
    "#Use a seaborn heatmap to plot confusion matrices\n",
    "#The dataframe is transposed to make Actual values on x-axis and predicted on y-axis\n",
    "#annot = True includes the numbers in each box\n",
    "#vmin and vmax just adjusts the color value\n",
    "fig, ax = plt.subplots(figsize = (7,7))\n",
    "sns.heatmap(cm_dummy_df.T, annot=True, annot_kws={\"size\": 15}, cmap=\"Oranges\", vmin=0, vmax=800, fmt='.0f', linewidths=1, linecolor=\"white\", cbar=False,\n",
    "           xticklabels=[\"Iris-setosa\",\"Iris-versicolor\", 'Iris-virginica'], yticklabels=[\"Iris-setosa\",\"Iris-versicolor\", 'Iris-virginica'])\n",
    "plt.ylabel(\"Predicted\", fontsize=15)\n",
    "plt.xlabel(\"Actual\", fontsize=15)\n",
    "ax.set_xticklabels([\"Iris-setosa\",\"Iris-versicolor\", 'Iris-virginica'], fontsize=13)\n",
    "ax.set_yticklabels([\"Iris-setosa\",\"Iris-versicolor\", 'Iris-virginica'], fontsize=13)\n",
    "plt.title(\"Confusion Matrix for 'Dummy' Classifier - Counts\", fontsize=15)\n",
    "\n",
    "plt.show()"
   ]
  },
  {
   "cell_type": "code",
   "execution_count": 20,
   "id": "84a1e7bf",
   "metadata": {},
   "outputs": [
    {
     "data": {
      "image/png": "[encoded data removed]",
      "text/plain": [
       "<Figure size 504x504 with 1 Axes>"
      ]
     },
     "metadata": {
      "needs_background": "light"
     },
     "output_type": "display_data"
    }
   ],
   "source": [
    "#generate confusion matrix\n",
    "cm_nb = confusion_matrix(y_test, y_predict)\n",
    "#put it into a dataframe\n",
    "cm_nb_df = pd.DataFrame(cm_nb)\n",
    "\n",
    "#plot CM\n",
    "fig, ax = plt.subplots(figsize = (7,7))\n",
    "sns.heatmap(pd.DataFrame(cm_nb_df.T), annot=True, annot_kws={\"size\": 15}, cmap=\"Purples\", vmin=0, vmax=500, fmt='.0f', linewidths=1, linecolor=\"white\", cbar=False,\n",
    "           xticklabels=[\"Iris-setosa\",\"Iris-versicolor\", 'Iris-virginica'], yticklabels=[\"Iris-setosa\",\"Iris-versicolor\", 'Iris-virginica'])\n",
    "plt.ylabel(\"Predicted\", fontsize=15)\n",
    "plt.xlabel(\"Actual\", fontsize=15)\n",
    "ax.set_xticklabels([\"Iris-setosa\",\"Iris-versicolor\", 'Iris-virginica'], fontsize=13)\n",
    "ax.set_yticklabels([\"Iris-setosa\",\"Iris-versicolor\", 'Iris-virginica'], fontsize=13)\n",
    "plt.title(\"Confusion Matrix for Naive Bayes Classifier - Counts\", fontsize=15)\n",
    "plt.show()"
   ]
  },
  {
   "cell_type": "code",
   "execution_count": 21,
   "id": "0747ac2b",
   "metadata": {},
   "outputs": [
    {
     "data": {
      "text/plain": [
       "114    5.8\n",
       "62     6.0\n",
       "33     5.5\n",
       "107    7.3\n",
       "7      5.0\n",
       "100    6.3\n",
       "40     5.0\n",
       "86     6.7\n",
       "76     6.8\n",
       "71     6.1\n",
       "134    6.1\n",
       "51     6.4\n",
       "73     6.1\n",
       "54     6.5\n",
       "63     6.1\n",
       "37     4.9\n",
       "78     6.0\n",
       "90     5.5\n",
       "45     4.8\n",
       "16     5.4\n",
       "121    5.6\n",
       "66     5.6\n",
       "24     4.8\n",
       "8      4.4\n",
       "126    6.2\n",
       "22     4.6\n",
       "44     5.1\n",
       "97     6.2\n",
       "93     5.0\n",
       "26     5.0\n",
       "137    6.4\n",
       "84     5.4\n",
       "27     5.2\n",
       "127    6.1\n",
       "132    6.4\n",
       "59     5.2\n",
       "18     5.7\n",
       "83     6.0\n",
       "Name: sepal_length, dtype: float64"
      ]
     },
     "execution_count": 21,
     "metadata": {},
     "output_type": "execute_result"
    }
   ],
   "source": [
    "X_test['sepal_length']"
   ]
  },
  {
   "cell_type": "code",
   "execution_count": 22,
   "id": "7a8d641a",
   "metadata": {},
   "outputs": [
    {
     "data": {
      "text/plain": [
       "<matplotlib.collections.PathCollection at 0x7fce403e54c0>"
      ]
     },
     "execution_count": 22,
     "metadata": {},
     "output_type": "execute_result"
    },
    {
     "data": {
      "image/png": "[encoded data removed]",
      "text/plain": [
       "<Figure size 432x288 with 1 Axes>"
      ]
     },
     "metadata": {
      "needs_background": "light"
     },
     "output_type": "display_data"
    }
   ],
   "source": [
    "import matplotlib.pyplot as plt\n",
    "plt.scatter(X_test['sepal_length'], X_test['sepal_width'],c=y_test['type'])"
   ]
  },
  {
   "cell_type": "code",
   "execution_count": 23,
   "id": "8a3f0481",
   "metadata": {},
   "outputs": [
    {
     "data": {
      "text/plain": [
       "<matplotlib.collections.PathCollection at 0x7fce300ea940>"
      ]
     },
     "execution_count": 23,
     "metadata": {},
     "output_type": "execute_result"
    },
    {
     "data": {
      "image/png": "[encoded data removed]",
      "text/plain": [
       "<Figure size 432x288 with 1 Axes>"
      ]
     },
     "metadata": {
      "needs_background": "light"
     },
     "output_type": "display_data"
    }
   ],
   "source": [
    "import matplotlib.pyplot as plt\n",
    "plt.scatter(X_test['sepal_length'], X_test['sepal_width'],c= y_predict['predict'])"
   ]
  },
  {
   "cell_type": "markdown",
   "id": "87f50e6a",
   "metadata": {},
   "source": [
    "### Interpretation\n",
    "\n",
    "The purpose of this project is utilizing Naive Bayes Classification to predict the type of the flower based on its sepal length, sepal width, petal length and the petal width.\n",
    "\n",
    "After loading the data, we performanced a data clean job like convert categorical data into numerical variable to meet our purpose. Then split the dataset into training and testing. According to the plot, if sepal length is around 7.7, most probabily that the type of flower is iris virginica, where if sepal lengths is around 4.3 millimeter, high chance it could be the iris setosa.\n",
    "\n",
    "Thus, the idea of Naive Bayes in this case is having petal lengths and petal widths, we want to predict the type of the flower.\n",
    "\n",
    "We also want to evaluate the model, by adding a dummy classifier. The reason we choose to use it is because between classifiers, sometimes there are types of errors.(false positive or flase negative) We need to measure how much the error cost us.\n",
    "\n",
    "Back to this case, if we want to predict setosa, a positive prediction is where we predict isir setosa, negative prediction is anything else. Dummy classifier classifies everything as iris virginica, we expect it to be correct 1/3 of time, because we have three types of flower.\n",
    "\n",
    "The confusion matrix is been used to show the positive or negative, it also showcases how many of prediction has been correct (true positive). To sum up, different types of error will cost us differently, we need to come up with other metrics than accuracy."
   ]
  },
  {
   "cell_type": "code",
   "execution_count": null,
   "id": "20eedaac",
   "metadata": {},
   "outputs": [],
   "source": []
  }
 ],
 "metadata": {
  "kernelspec": {
   "display_name": "Python 3 (ipykernel)",
   "language": "python",
   "name": "python3"
  },
  "language_info": {
   "codemirror_mode": {
    "name": "ipython",
    "version": 3
   },
   "file_extension": ".py",
   "mimetype": "text/x-python",
   "name": "python",
   "nbconvert_exporter": "python",
   "pygments_lexer": "ipython3",
   "version": "3.9.7"
  }
 },
 "nbformat": 4,
 "nbformat_minor": 5
}
