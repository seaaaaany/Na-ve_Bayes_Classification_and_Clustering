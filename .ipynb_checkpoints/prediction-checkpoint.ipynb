{
 "cells": [
  {
   "cell_type": "code",
   "execution_count": 1,
   "id": "4eede5cf",
   "metadata": {},
   "outputs": [],
   "source": [
    "# dependencies\n",
    "import pandas as pd"
   ]
  },
  {
   "cell_type": "code",
   "execution_count": 2,
   "id": "456213bf",
   "metadata": {},
   "outputs": [],
   "source": [
    "# data url\n",
    "URL_Framingham_training='https://raw.githubusercontent.com/kamranbakhtiari/DESC624/main/Framingham_Training'\n",
    "URL_Framingham_test='https://raw.githubusercontent.com/kamranbakhtiari/DESC624/main/Framingham_Test'\n",
    "\n",
    "Framingham_test = pd.read_csv('https://raw.githubusercontent.com/kamranbakhtiari/DESC624/main/Framingham_Test')\n",
    "Framingham_training = pd.read_csv('https://raw.githubusercontent.com/kamranbakhtiari/DESC624/main/Framingham_Training')"
   ]
  },
  {
   "cell_type": "code",
   "execution_count": 5,
   "id": "17aaa574",
   "metadata": {},
   "outputs": [
    {
     "data": {
      "text/html": [
       "<div>\n",
       "<style scoped>\n",
       "    .dataframe tbody tr th:only-of-type {\n",
       "        vertical-align: middle;\n",
       "    }\n",
       "\n",
       "    .dataframe tbody tr th {\n",
       "        vertical-align: top;\n",
       "    }\n",
       "\n",
       "    .dataframe thead th {\n",
       "        text-align: right;\n",
       "    }\n",
       "</style>\n",
       "<table border=\"1\" class=\"dataframe\">\n",
       "  <thead>\n",
       "    <tr style=\"text-align: right;\">\n",
       "      <th></th>\n",
       "      <th>Index</th>\n",
       "      <th>Sex</th>\n",
       "      <th>Age</th>\n",
       "      <th>Educ</th>\n",
       "      <th>Death</th>\n",
       "    </tr>\n",
       "  </thead>\n",
       "  <tbody>\n",
       "    <tr>\n",
       "      <th>0</th>\n",
       "      <td>4</td>\n",
       "      <td>2</td>\n",
       "      <td>52</td>\n",
       "      <td>2</td>\n",
       "      <td>0</td>\n",
       "    </tr>\n",
       "    <tr>\n",
       "      <th>1</th>\n",
       "      <td>6</td>\n",
       "      <td>1</td>\n",
       "      <td>48</td>\n",
       "      <td>1</td>\n",
       "      <td>0</td>\n",
       "    </tr>\n",
       "    <tr>\n",
       "      <th>2</th>\n",
       "      <td>10</td>\n",
       "      <td>2</td>\n",
       "      <td>46</td>\n",
       "      <td>3</td>\n",
       "      <td>0</td>\n",
       "    </tr>\n",
       "    <tr>\n",
       "      <th>3</th>\n",
       "      <td>14</td>\n",
       "      <td>2</td>\n",
       "      <td>49</td>\n",
       "      <td>2</td>\n",
       "      <td>0</td>\n",
       "    </tr>\n",
       "    <tr>\n",
       "      <th>4</th>\n",
       "      <td>16</td>\n",
       "      <td>2</td>\n",
       "      <td>63</td>\n",
       "      <td>1</td>\n",
       "      <td>0</td>\n",
       "    </tr>\n",
       "  </tbody>\n",
       "</table>\n",
       "</div>"
      ],
      "text/plain": [
       "   Index  Sex  Age  Educ  Death\n",
       "0      4    2   52     2      0\n",
       "1      6    1   48     1      0\n",
       "2     10    2   46     3      0\n",
       "3     14    2   49     2      0\n",
       "4     16    2   63     1      0"
      ]
     },
     "execution_count": 5,
     "metadata": {},
     "output_type": "execute_result"
    }
   ],
   "source": [
    "# data preview\n",
    "Framingham_test.head()"
   ]
  },
  {
   "cell_type": "markdown",
   "id": "58c2e360",
   "metadata": {},
   "source": [
    "### 1. Use the training set to run a regression predicting Age, based on Sex and Education.  Obtain a summary of the model.  Do both predictors belong in the model?**\n",
    "\n",
    "\n",
    "\n"
   ]
  },
  {
   "cell_type": "code",
   "execution_count": 7,
   "id": "52115f11",
   "metadata": {},
   "outputs": [
    {
     "name": "stderr",
     "output_type": "stream",
     "text": [
      "/Users/sean/opt/anaconda3/lib/python3.9/site-packages/statsmodels/tsa/tsatools.py:142: FutureWarning: In a future version of pandas all arguments of concat except for the argument 'objs' will be keyword-only\n",
      "  x = pd.concat(x[::order], 1)\n"
     ]
    }
   ],
   "source": [
    "import statsmodels.api as sm\n",
    "\n",
    "X_train = pd.DataFrame(Framingham_training[['Sex', 'Educ']])\n",
    "X_train = sm.add_constant(X_train)\n",
    "y_train = pd.DataFrame(Framingham_training[['Age']])"
   ]
  },
  {
   "cell_type": "code",
   "execution_count": 8,
   "id": "aac77c58",
   "metadata": {
    "scrolled": true
   },
   "outputs": [
    {
     "data": {
      "text/html": [
       "<table class=\"simpletable\">\n",
       "<caption>OLS Regression Results</caption>\n",
       "<tr>\n",
       "  <th>Dep. Variable:</th>           <td>Age</td>       <th>  R-squared:         </th> <td>   0.017</td> \n",
       "</tr>\n",
       "<tr>\n",
       "  <th>Model:</th>                   <td>OLS</td>       <th>  Adj. R-squared:    </th> <td>   0.017</td> \n",
       "</tr>\n",
       "<tr>\n",
       "  <th>Method:</th>             <td>Least Squares</td>  <th>  F-statistic:       </th> <td>   67.93</td> \n",
       "</tr>\n",
       "<tr>\n",
       "  <th>Date:</th>             <td>Mon, 31 Jan 2022</td> <th>  Prob (F-statistic):</th> <td>5.58e-30</td> \n",
       "</tr>\n",
       "<tr>\n",
       "  <th>Time:</th>                 <td>14:43:49</td>     <th>  Log-Likelihood:    </th> <td> -29110.</td> \n",
       "</tr>\n",
       "<tr>\n",
       "  <th>No. Observations:</th>      <td>  7953</td>      <th>  AIC:               </th> <td>5.823e+04</td>\n",
       "</tr>\n",
       "<tr>\n",
       "  <th>Df Residuals:</th>          <td>  7950</td>      <th>  BIC:               </th> <td>5.825e+04</td>\n",
       "</tr>\n",
       "<tr>\n",
       "  <th>Df Model:</th>              <td>     2</td>      <th>                     </th>     <td> </td>    \n",
       "</tr>\n",
       "<tr>\n",
       "  <th>Covariance Type:</th>      <td>nonrobust</td>    <th>                     </th>     <td> </td>    \n",
       "</tr>\n",
       "</table>\n",
       "<table class=\"simpletable\">\n",
       "<tr>\n",
       "    <td></td>       <th>coef</th>     <th>std err</th>      <th>t</th>      <th>P>|t|</th>  <th>[0.025</th>    <th>0.975]</th>  \n",
       "</tr>\n",
       "<tr>\n",
       "  <th>const</th> <td>   56.3600</td> <td>    0.408</td> <td>  138.025</td> <td> 0.000</td> <td>   55.560</td> <td>   57.160</td>\n",
       "</tr>\n",
       "<tr>\n",
       "  <th>Sex</th>   <td>    0.4309</td> <td>    0.213</td> <td>    2.023</td> <td> 0.043</td> <td>    0.013</td> <td>    0.848</td>\n",
       "</tr>\n",
       "<tr>\n",
       "  <th>Educ</th>  <td>   -1.1845</td> <td>    0.103</td> <td>  -11.446</td> <td> 0.000</td> <td>   -1.387</td> <td>   -0.982</td>\n",
       "</tr>\n",
       "</table>\n",
       "<table class=\"simpletable\">\n",
       "<tr>\n",
       "  <th>Omnibus:</th>       <td>297.738</td> <th>  Durbin-Watson:     </th> <td>   1.426</td>\n",
       "</tr>\n",
       "<tr>\n",
       "  <th>Prob(Omnibus):</th> <td> 0.000</td>  <th>  Jarque-Bera (JB):  </th> <td> 148.843</td>\n",
       "</tr>\n",
       "<tr>\n",
       "  <th>Skew:</th>          <td> 0.136</td>  <th>  Prob(JB):          </th> <td>4.78e-33</td>\n",
       "</tr>\n",
       "<tr>\n",
       "  <th>Kurtosis:</th>      <td> 2.387</td>  <th>  Cond. No.          </th> <td>    12.1</td>\n",
       "</tr>\n",
       "</table><br/><br/>Notes:<br/>[1] Standard Errors assume that the covariance matrix of the errors is correctly specified."
      ],
      "text/plain": [
       "<class 'statsmodels.iolib.summary.Summary'>\n",
       "\"\"\"\n",
       "                            OLS Regression Results                            \n",
       "==============================================================================\n",
       "Dep. Variable:                    Age   R-squared:                       0.017\n",
       "Model:                            OLS   Adj. R-squared:                  0.017\n",
       "Method:                 Least Squares   F-statistic:                     67.93\n",
       "Date:                Mon, 31 Jan 2022   Prob (F-statistic):           5.58e-30\n",
       "Time:                        14:43:49   Log-Likelihood:                -29110.\n",
       "No. Observations:                7953   AIC:                         5.823e+04\n",
       "Df Residuals:                    7950   BIC:                         5.825e+04\n",
       "Df Model:                           2                                         \n",
       "Covariance Type:            nonrobust                                         \n",
       "==============================================================================\n",
       "                 coef    std err          t      P>|t|      [0.025      0.975]\n",
       "------------------------------------------------------------------------------\n",
       "const         56.3600      0.408    138.025      0.000      55.560      57.160\n",
       "Sex            0.4309      0.213      2.023      0.043       0.013       0.848\n",
       "Educ          -1.1845      0.103    -11.446      0.000      -1.387      -0.982\n",
       "==============================================================================\n",
       "Omnibus:                      297.738   Durbin-Watson:                   1.426\n",
       "Prob(Omnibus):                  0.000   Jarque-Bera (JB):              148.843\n",
       "Skew:                           0.136   Prob(JB):                     4.78e-33\n",
       "Kurtosis:                       2.387   Cond. No.                         12.1\n",
       "==============================================================================\n",
       "\n",
       "Notes:\n",
       "[1] Standard Errors assume that the covariance matrix of the errors is correctly specified.\n",
       "\"\"\""
      ]
     },
     "execution_count": 8,
     "metadata": {},
     "output_type": "execute_result"
    }
   ],
   "source": [
    "# OLS model\n",
    "model01=sm.OLS(y_train, X_train).fit()\n",
    "model01.summary()"
   ]
  },
  {
   "cell_type": "markdown",
   "id": "e29bdcc1",
   "metadata": {},
   "source": [
    "According to the regression model, we can find that the r-squared is pretty small. It represents that 1.7% of the proportion of the variance for the depdent variable that's explained by variables in this linear regression model.\n",
    "\n",
    "However, the variables Sex and Educ are statistically significant based on both t score and p value."
   ]
  },
  {
   "cell_type": "markdown",
   "id": "29d363b0",
   "metadata": {},
   "source": [
    "### 2. Validate the model from the previous exercise"
   ]
  },
  {
   "cell_type": "code",
   "execution_count": null,
   "id": "ead1259b",
   "metadata": {},
   "outputs": [],
   "source": []
  },
  {
   "cell_type": "markdown",
   "id": "b61406f7",
   "metadata": {},
   "source": [
    "### 3. Use the regression equation to complete this sentence: \"The estimated Age equals...\""
   ]
  },
  {
   "cell_type": "markdown",
   "id": "c57bf0fb",
   "metadata": {},
   "source": [
    "### 4. Interpret the coefficient for Sex"
   ]
  },
  {
   "cell_type": "markdown",
   "id": "59e093a8",
   "metadata": {},
   "source": [
    "### 5. Interpret the coefficient for Education."
   ]
  },
  {
   "cell_type": "markdown",
   "id": "2d7f65a6",
   "metadata": {},
   "source": [
    "### 6. Find and interpret the value of Standard error."
   ]
  },
  {
   "cell_type": "markdown",
   "id": "023db443",
   "metadata": {},
   "source": [
    "### 7. Find and interpret r2 (adj)"
   ]
  },
  {
   "cell_type": "markdown",
   "id": "7b56ed6f",
   "metadata": {},
   "source": [
    "### 8. Use your formula to make a prediction of predictor values of your choice. Apply 95% prediction interval. Interpret the results"
   ]
  },
  {
   "cell_type": "code",
   "execution_count": null,
   "id": "e02d2075",
   "metadata": {},
   "outputs": [],
   "source": []
  }
 ],
 "metadata": {
  "kernelspec": {
   "display_name": "Python 3 (ipykernel)",
   "language": "python",
   "name": "python3"
  },
  "language_info": {
   "codemirror_mode": {
    "name": "ipython",
    "version": 3
   },
   "file_extension": ".py",
   "mimetype": "text/x-python",
   "name": "python",
   "nbconvert_exporter": "python",
   "pygments_lexer": "ipython3",
   "version": "3.9.7"
  }
 },
 "nbformat": 4,
 "nbformat_minor": 5
}
