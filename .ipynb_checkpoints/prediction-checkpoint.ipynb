{
 "cells": [
  {
   "cell_type": "code",
   "execution_count": 1,
   "id": "4dda1366",
   "metadata": {},
   "outputs": [],
   "source": [
    "# dependencies\n",
    "import pandas as pd"
   ]
  },
  {
   "cell_type": "code",
   "execution_count": 2,
   "id": "a5bde7c7",
   "metadata": {},
   "outputs": [],
   "source": [
    "# data url\n",
    "URL_Framingham_training='https://raw.githubusercontent.com/kamranbakhtiari/DESC624/main/Framingham_Training'\n",
    "URL_Framingham_test='https://raw.githubusercontent.com/kamranbakhtiari/DESC624/main/Framingham_Test'\n",
    "\n",
    "Framingham_test = pd.read_csv('https://raw.githubusercontent.com/kamranbakhtiari/DESC624/main/Framingham_Test')\n",
    "Framingham_training = pd.read_csv('https://raw.githubusercontent.com/kamranbakhtiari/DESC624/main/Framingham_Training')"
   ]
  },
  {
   "cell_type": "code",
   "execution_count": 5,
   "id": "faadec06",
   "metadata": {
    "scrolled": true
   },
   "outputs": [
    {
     "data": {
      "text/html": [
       "<div>\n",
       "<style scoped>\n",
       "    .dataframe tbody tr th:only-of-type {\n",
       "        vertical-align: middle;\n",
       "    }\n",
       "\n",
       "    .dataframe tbody tr th {\n",
       "        vertical-align: top;\n",
       "    }\n",
       "\n",
       "    .dataframe thead th {\n",
       "        text-align: right;\n",
       "    }\n",
       "</style>\n",
       "<table border=\"1\" class=\"dataframe\">\n",
       "  <thead>\n",
       "    <tr style=\"text-align: right;\">\n",
       "      <th></th>\n",
       "      <th>Index</th>\n",
       "      <th>Sex</th>\n",
       "      <th>Age</th>\n",
       "      <th>Educ</th>\n",
       "      <th>Death</th>\n",
       "    </tr>\n",
       "  </thead>\n",
       "  <tbody>\n",
       "    <tr>\n",
       "      <th>0</th>\n",
       "      <td>4</td>\n",
       "      <td>2</td>\n",
       "      <td>52</td>\n",
       "      <td>2</td>\n",
       "      <td>0</td>\n",
       "    </tr>\n",
       "    <tr>\n",
       "      <th>1</th>\n",
       "      <td>6</td>\n",
       "      <td>1</td>\n",
       "      <td>48</td>\n",
       "      <td>1</td>\n",
       "      <td>0</td>\n",
       "    </tr>\n",
       "    <tr>\n",
       "      <th>2</th>\n",
       "      <td>10</td>\n",
       "      <td>2</td>\n",
       "      <td>46</td>\n",
       "      <td>3</td>\n",
       "      <td>0</td>\n",
       "    </tr>\n",
       "    <tr>\n",
       "      <th>3</th>\n",
       "      <td>14</td>\n",
       "      <td>2</td>\n",
       "      <td>49</td>\n",
       "      <td>2</td>\n",
       "      <td>0</td>\n",
       "    </tr>\n",
       "    <tr>\n",
       "      <th>4</th>\n",
       "      <td>16</td>\n",
       "      <td>2</td>\n",
       "      <td>63</td>\n",
       "      <td>1</td>\n",
       "      <td>0</td>\n",
       "    </tr>\n",
       "  </tbody>\n",
       "</table>\n",
       "</div>"
      ],
      "text/plain": [
       "   Index  Sex  Age  Educ  Death\n",
       "0      4    2   52     2      0\n",
       "1      6    1   48     1      0\n",
       "2     10    2   46     3      0\n",
       "3     14    2   49     2      0\n",
       "4     16    2   63     1      0"
      ]
     },
     "execution_count": 5,
     "metadata": {},
     "output_type": "execute_result"
    }
   ],
   "source": [
    "# data preview\n",
    "Framingham_test.head()"
   ]
  },
  {
   "cell_type": "code",
   "execution_count": 9,
   "id": "6a8608b3",
   "metadata": {},
   "outputs": [
    {
     "data": {
      "text/html": [
       "<div>\n",
       "<style scoped>\n",
       "    .dataframe tbody tr th:only-of-type {\n",
       "        vertical-align: middle;\n",
       "    }\n",
       "\n",
       "    .dataframe tbody tr th {\n",
       "        vertical-align: top;\n",
       "    }\n",
       "\n",
       "    .dataframe thead th {\n",
       "        text-align: right;\n",
       "    }\n",
       "</style>\n",
       "<table border=\"1\" class=\"dataframe\">\n",
       "  <thead>\n",
       "    <tr style=\"text-align: right;\">\n",
       "      <th></th>\n",
       "      <th>Index</th>\n",
       "      <th>Sex</th>\n",
       "      <th>Age</th>\n",
       "      <th>Educ</th>\n",
       "      <th>Death</th>\n",
       "    </tr>\n",
       "  </thead>\n",
       "  <tbody>\n",
       "    <tr>\n",
       "      <th>count</th>\n",
       "      <td>2257.000000</td>\n",
       "      <td>2257.000000</td>\n",
       "      <td>2257.000000</td>\n",
       "      <td>2257.000000</td>\n",
       "      <td>2257.000000</td>\n",
       "    </tr>\n",
       "    <tr>\n",
       "      <th>mean</th>\n",
       "      <td>5520.255206</td>\n",
       "      <td>1.573770</td>\n",
       "      <td>54.656624</td>\n",
       "      <td>2.011077</td>\n",
       "      <td>0.292424</td>\n",
       "    </tr>\n",
       "    <tr>\n",
       "      <th>std</th>\n",
       "      <td>3241.093877</td>\n",
       "      <td>0.494638</td>\n",
       "      <td>9.703423</td>\n",
       "      <td>1.049469</td>\n",
       "      <td>0.454977</td>\n",
       "    </tr>\n",
       "    <tr>\n",
       "      <th>min</th>\n",
       "      <td>4.000000</td>\n",
       "      <td>1.000000</td>\n",
       "      <td>33.000000</td>\n",
       "      <td>1.000000</td>\n",
       "      <td>0.000000</td>\n",
       "    </tr>\n",
       "    <tr>\n",
       "      <th>25%</th>\n",
       "      <td>2709.000000</td>\n",
       "      <td>1.000000</td>\n",
       "      <td>47.000000</td>\n",
       "      <td>1.000000</td>\n",
       "      <td>0.000000</td>\n",
       "    </tr>\n",
       "    <tr>\n",
       "      <th>50%</th>\n",
       "      <td>5440.000000</td>\n",
       "      <td>2.000000</td>\n",
       "      <td>54.000000</td>\n",
       "      <td>2.000000</td>\n",
       "      <td>0.000000</td>\n",
       "    </tr>\n",
       "    <tr>\n",
       "      <th>75%</th>\n",
       "      <td>8230.000000</td>\n",
       "      <td>2.000000</td>\n",
       "      <td>62.000000</td>\n",
       "      <td>3.000000</td>\n",
       "      <td>1.000000</td>\n",
       "    </tr>\n",
       "    <tr>\n",
       "      <th>max</th>\n",
       "      <td>11328.000000</td>\n",
       "      <td>2.000000</td>\n",
       "      <td>81.000000</td>\n",
       "      <td>4.000000</td>\n",
       "      <td>1.000000</td>\n",
       "    </tr>\n",
       "  </tbody>\n",
       "</table>\n",
       "</div>"
      ],
      "text/plain": [
       "              Index          Sex          Age         Educ        Death\n",
       "count   2257.000000  2257.000000  2257.000000  2257.000000  2257.000000\n",
       "mean    5520.255206     1.573770    54.656624     2.011077     0.292424\n",
       "std     3241.093877     0.494638     9.703423     1.049469     0.454977\n",
       "min        4.000000     1.000000    33.000000     1.000000     0.000000\n",
       "25%     2709.000000     1.000000    47.000000     1.000000     0.000000\n",
       "50%     5440.000000     2.000000    54.000000     2.000000     0.000000\n",
       "75%     8230.000000     2.000000    62.000000     3.000000     1.000000\n",
       "max    11328.000000     2.000000    81.000000     4.000000     1.000000"
      ]
     },
     "execution_count": 9,
     "metadata": {},
     "output_type": "execute_result"
    }
   ],
   "source": [
    "Framingham_test.describe()"
   ]
  },
  {
   "cell_type": "markdown",
   "id": "fe4f8484",
   "metadata": {},
   "source": [
    "### 1. Use the training set to run a regression predicting Age, based on Sex and Education.  Obtain a summary of the model.  Do both predictors belong in the model?**\n",
    "\n",
    "\n",
    "\n"
   ]
  },
  {
   "cell_type": "code",
   "execution_count": 7,
   "id": "a5f56add",
   "metadata": {},
   "outputs": [
    {
     "name": "stderr",
     "output_type": "stream",
     "text": [
      "/Users/sean/opt/anaconda3/lib/python3.9/site-packages/statsmodels/tsa/tsatools.py:142: FutureWarning: In a future version of pandas all arguments of concat except for the argument 'objs' will be keyword-only\n",
      "  x = pd.concat(x[::order], 1)\n"
     ]
    }
   ],
   "source": [
    "import statsmodels.api as sm\n",
    "\n",
    "X_train = pd.DataFrame(Framingham_training[['Sex', 'Educ']])\n",
    "X_train = sm.add_constant(X_train)\n",
    "y_train = pd.DataFrame(Framingham_training[['Age']])"
   ]
  },
  {
   "cell_type": "code",
   "execution_count": 8,
   "id": "00930fe5",
   "metadata": {
    "scrolled": true
   },
   "outputs": [
    {
     "data": {
      "text/html": [
       "<table class=\"simpletable\">\n",
       "<caption>OLS Regression Results</caption>\n",
       "<tr>\n",
       "  <th>Dep. Variable:</th>           <td>Age</td>       <th>  R-squared:         </th> <td>   0.017</td> \n",
       "</tr>\n",
       "<tr>\n",
       "  <th>Model:</th>                   <td>OLS</td>       <th>  Adj. R-squared:    </th> <td>   0.017</td> \n",
       "</tr>\n",
       "<tr>\n",
       "  <th>Method:</th>             <td>Least Squares</td>  <th>  F-statistic:       </th> <td>   67.93</td> \n",
       "</tr>\n",
       "<tr>\n",
       "  <th>Date:</th>             <td>Mon, 31 Jan 2022</td> <th>  Prob (F-statistic):</th> <td>5.58e-30</td> \n",
       "</tr>\n",
       "<tr>\n",
       "  <th>Time:</th>                 <td>14:43:49</td>     <th>  Log-Likelihood:    </th> <td> -29110.</td> \n",
       "</tr>\n",
       "<tr>\n",
       "  <th>No. Observations:</th>      <td>  7953</td>      <th>  AIC:               </th> <td>5.823e+04</td>\n",
       "</tr>\n",
       "<tr>\n",
       "  <th>Df Residuals:</th>          <td>  7950</td>      <th>  BIC:               </th> <td>5.825e+04</td>\n",
       "</tr>\n",
       "<tr>\n",
       "  <th>Df Model:</th>              <td>     2</td>      <th>                     </th>     <td> </td>    \n",
       "</tr>\n",
       "<tr>\n",
       "  <th>Covariance Type:</th>      <td>nonrobust</td>    <th>                     </th>     <td> </td>    \n",
       "</tr>\n",
       "</table>\n",
       "<table class=\"simpletable\">\n",
       "<tr>\n",
       "    <td></td>       <th>coef</th>     <th>std err</th>      <th>t</th>      <th>P>|t|</th>  <th>[0.025</th>    <th>0.975]</th>  \n",
       "</tr>\n",
       "<tr>\n",
       "  <th>const</th> <td>   56.3600</td> <td>    0.408</td> <td>  138.025</td> <td> 0.000</td> <td>   55.560</td> <td>   57.160</td>\n",
       "</tr>\n",
       "<tr>\n",
       "  <th>Sex</th>   <td>    0.4309</td> <td>    0.213</td> <td>    2.023</td> <td> 0.043</td> <td>    0.013</td> <td>    0.848</td>\n",
       "</tr>\n",
       "<tr>\n",
       "  <th>Educ</th>  <td>   -1.1845</td> <td>    0.103</td> <td>  -11.446</td> <td> 0.000</td> <td>   -1.387</td> <td>   -0.982</td>\n",
       "</tr>\n",
       "</table>\n",
       "<table class=\"simpletable\">\n",
       "<tr>\n",
       "  <th>Omnibus:</th>       <td>297.738</td> <th>  Durbin-Watson:     </th> <td>   1.426</td>\n",
       "</tr>\n",
       "<tr>\n",
       "  <th>Prob(Omnibus):</th> <td> 0.000</td>  <th>  Jarque-Bera (JB):  </th> <td> 148.843</td>\n",
       "</tr>\n",
       "<tr>\n",
       "  <th>Skew:</th>          <td> 0.136</td>  <th>  Prob(JB):          </th> <td>4.78e-33</td>\n",
       "</tr>\n",
       "<tr>\n",
       "  <th>Kurtosis:</th>      <td> 2.387</td>  <th>  Cond. No.          </th> <td>    12.1</td>\n",
       "</tr>\n",
       "</table><br/><br/>Notes:<br/>[1] Standard Errors assume that the covariance matrix of the errors is correctly specified."
      ],
      "text/plain": [
       "<class 'statsmodels.iolib.summary.Summary'>\n",
       "\"\"\"\n",
       "                            OLS Regression Results                            \n",
       "==============================================================================\n",
       "Dep. Variable:                    Age   R-squared:                       0.017\n",
       "Model:                            OLS   Adj. R-squared:                  0.017\n",
       "Method:                 Least Squares   F-statistic:                     67.93\n",
       "Date:                Mon, 31 Jan 2022   Prob (F-statistic):           5.58e-30\n",
       "Time:                        14:43:49   Log-Likelihood:                -29110.\n",
       "No. Observations:                7953   AIC:                         5.823e+04\n",
       "Df Residuals:                    7950   BIC:                         5.825e+04\n",
       "Df Model:                           2                                         \n",
       "Covariance Type:            nonrobust                                         \n",
       "==============================================================================\n",
       "                 coef    std err          t      P>|t|      [0.025      0.975]\n",
       "------------------------------------------------------------------------------\n",
       "const         56.3600      0.408    138.025      0.000      55.560      57.160\n",
       "Sex            0.4309      0.213      2.023      0.043       0.013       0.848\n",
       "Educ          -1.1845      0.103    -11.446      0.000      -1.387      -0.982\n",
       "==============================================================================\n",
       "Omnibus:                      297.738   Durbin-Watson:                   1.426\n",
       "Prob(Omnibus):                  0.000   Jarque-Bera (JB):              148.843\n",
       "Skew:                           0.136   Prob(JB):                     4.78e-33\n",
       "Kurtosis:                       2.387   Cond. No.                         12.1\n",
       "==============================================================================\n",
       "\n",
       "Notes:\n",
       "[1] Standard Errors assume that the covariance matrix of the errors is correctly specified.\n",
       "\"\"\""
      ]
     },
     "execution_count": 8,
     "metadata": {},
     "output_type": "execute_result"
    }
   ],
   "source": [
    "# OLS model\n",
    "model01=sm.OLS(y_train, X_train).fit()\n",
    "model01.summary()"
   ]
  },
  {
   "cell_type": "markdown",
   "id": "3aeb0e9a",
   "metadata": {},
   "source": [
    "According to the regression model, we can find that the r-squared is pretty small. It represents that 1.7% of the proportion of the variance for the depdent variable that's explained by variables in this linear regression model.\n",
    "\n",
    "However, the variables Sex and Educ are statistically significant based on both t score and p value."
   ]
  },
  {
   "cell_type": "markdown",
   "id": "e870d97e",
   "metadata": {},
   "source": [
    "### 2. Validate the model from the previous exercise"
   ]
  },
  {
   "cell_type": "code",
   "execution_count": 10,
   "id": "86d00b91",
   "metadata": {
    "scrolled": true
   },
   "outputs": [
    {
     "name": "stderr",
     "output_type": "stream",
     "text": [
      "/Users/sean/opt/anaconda3/lib/python3.9/site-packages/statsmodels/tsa/tsatools.py:142: FutureWarning: In a future version of pandas all arguments of concat except for the argument 'objs' will be keyword-only\n",
      "  x = pd.concat(x[::order], 1)\n"
     ]
    },
    {
     "data": {
      "text/html": [
       "<table class=\"simpletable\">\n",
       "<caption>OLS Regression Results</caption>\n",
       "<tr>\n",
       "  <th>Dep. Variable:</th>           <td>Age</td>       <th>  R-squared:         </th> <td>   0.020</td> \n",
       "</tr>\n",
       "<tr>\n",
       "  <th>Model:</th>                   <td>OLS</td>       <th>  Adj. R-squared:    </th> <td>   0.019</td> \n",
       "</tr>\n",
       "<tr>\n",
       "  <th>Method:</th>             <td>Least Squares</td>  <th>  F-statistic:       </th> <td>   22.74</td> \n",
       "</tr>\n",
       "<tr>\n",
       "  <th>Date:</th>             <td>Mon, 31 Jan 2022</td> <th>  Prob (F-statistic):</th> <td>1.67e-10</td> \n",
       "</tr>\n",
       "<tr>\n",
       "  <th>Time:</th>                 <td>14:53:38</td>     <th>  Log-Likelihood:    </th> <td> -8308.5</td> \n",
       "</tr>\n",
       "<tr>\n",
       "  <th>No. Observations:</th>      <td>  2257</td>      <th>  AIC:               </th> <td>1.662e+04</td>\n",
       "</tr>\n",
       "<tr>\n",
       "  <th>Df Residuals:</th>          <td>  2254</td>      <th>  BIC:               </th> <td>1.664e+04</td>\n",
       "</tr>\n",
       "<tr>\n",
       "  <th>Df Model:</th>              <td>     2</td>      <th>                     </th>     <td> </td>    \n",
       "</tr>\n",
       "<tr>\n",
       "  <th>Covariance Type:</th>      <td>nonrobust</td>    <th>                     </th>     <td> </td>    \n",
       "</tr>\n",
       "</table>\n",
       "<table class=\"simpletable\">\n",
       "<tr>\n",
       "    <td></td>       <th>coef</th>     <th>std err</th>      <th>t</th>      <th>P>|t|</th>  <th>[0.025</th>    <th>0.975]</th>  \n",
       "</tr>\n",
       "<tr>\n",
       "  <th>const</th> <td>   55.4202</td> <td>    0.784</td> <td>   70.690</td> <td> 0.000</td> <td>   53.883</td> <td>   56.958</td>\n",
       "</tr>\n",
       "<tr>\n",
       "  <th>Sex</th>   <td>    1.0424</td> <td>    0.409</td> <td>    2.548</td> <td> 0.011</td> <td>    0.240</td> <td>    1.845</td>\n",
       "</tr>\n",
       "<tr>\n",
       "  <th>Educ</th>  <td>   -1.1954</td> <td>    0.193</td> <td>   -6.199</td> <td> 0.000</td> <td>   -1.574</td> <td>   -0.817</td>\n",
       "</tr>\n",
       "</table>\n",
       "<table class=\"simpletable\">\n",
       "<tr>\n",
       "  <th>Omnibus:</th>       <td>97.498</td> <th>  Durbin-Watson:     </th> <td>   1.705</td>\n",
       "</tr>\n",
       "<tr>\n",
       "  <th>Prob(Omnibus):</th> <td> 0.000</td> <th>  Jarque-Bera (JB):  </th> <td>  51.146</td>\n",
       "</tr>\n",
       "<tr>\n",
       "  <th>Skew:</th>          <td> 0.190</td> <th>  Prob(JB):          </th> <td>7.83e-12</td>\n",
       "</tr>\n",
       "<tr>\n",
       "  <th>Kurtosis:</th>      <td> 2.368</td> <th>  Cond. No.          </th> <td>    12.2</td>\n",
       "</tr>\n",
       "</table><br/><br/>Notes:<br/>[1] Standard Errors assume that the covariance matrix of the errors is correctly specified."
      ],
      "text/plain": [
       "<class 'statsmodels.iolib.summary.Summary'>\n",
       "\"\"\"\n",
       "                            OLS Regression Results                            \n",
       "==============================================================================\n",
       "Dep. Variable:                    Age   R-squared:                       0.020\n",
       "Model:                            OLS   Adj. R-squared:                  0.019\n",
       "Method:                 Least Squares   F-statistic:                     22.74\n",
       "Date:                Mon, 31 Jan 2022   Prob (F-statistic):           1.67e-10\n",
       "Time:                        14:53:38   Log-Likelihood:                -8308.5\n",
       "No. Observations:                2257   AIC:                         1.662e+04\n",
       "Df Residuals:                    2254   BIC:                         1.664e+04\n",
       "Df Model:                           2                                         \n",
       "Covariance Type:            nonrobust                                         \n",
       "==============================================================================\n",
       "                 coef    std err          t      P>|t|      [0.025      0.975]\n",
       "------------------------------------------------------------------------------\n",
       "const         55.4202      0.784     70.690      0.000      53.883      56.958\n",
       "Sex            1.0424      0.409      2.548      0.011       0.240       1.845\n",
       "Educ          -1.1954      0.193     -6.199      0.000      -1.574      -0.817\n",
       "==============================================================================\n",
       "Omnibus:                       97.498   Durbin-Watson:                   1.705\n",
       "Prob(Omnibus):                  0.000   Jarque-Bera (JB):               51.146\n",
       "Skew:                           0.190   Prob(JB):                     7.83e-12\n",
       "Kurtosis:                       2.368   Cond. No.                         12.2\n",
       "==============================================================================\n",
       "\n",
       "Notes:\n",
       "[1] Standard Errors assume that the covariance matrix of the errors is correctly specified.\n",
       "\"\"\""
      ]
     },
     "execution_count": 10,
     "metadata": {},
     "output_type": "execute_result"
    }
   ],
   "source": [
    "X_test = pd.DataFrame(Framingham_test[['Sex', 'Educ']])\n",
    "y_test = pd.DataFrame(Framingham_test[['Age']])\n",
    "X_test = sm.add_constant(X_test)\n",
    "\n",
    "model01_test=sm.OLS(y_test, X_test).fit()\n",
    "model01_test.summary()"
   ]
  },
  {
   "cell_type": "markdown",
   "id": "9f43e533",
   "metadata": {},
   "source": [
    "Based on the summary of the model, R-Squared did not improve that much.\n",
    "\n",
    "The coefficients for constant, educ are pretty smiliar. The coefficient for the Sex variable increased to 1.0424."
   ]
  },
  {
   "cell_type": "markdown",
   "id": "d01e0f80",
   "metadata": {},
   "source": [
    "### 3. Use the regression equation to complete this sentence: \"The estimated Age equals...\""
   ]
  },
  {
   "cell_type": "code",
   "execution_count": 11,
   "id": "13d2a0d7",
   "metadata": {},
   "outputs": [
    {
     "name": "stdout",
     "output_type": "stream",
     "text": [
      "The estimate Age equals  54.85\n"
     ]
    }
   ],
   "source": [
    "print(\"The estimate Age equals \", round(model01.predict(X_test.head(1))[0],2))"
   ]
  },
  {
   "cell_type": "code",
   "execution_count": null,
   "id": "4ca4f8eb",
   "metadata": {},
   "outputs": [],
   "source": []
  },
  {
   "cell_type": "markdown",
   "id": "4c75506e",
   "metadata": {},
   "source": [
    "### 4. Interpret the coefficient for Sex"
   ]
  },
  {
   "cell_type": "markdown",
   "id": "6b52c636",
   "metadata": {},
   "source": [
    "### 5. Interpret the coefficient for Education."
   ]
  },
  {
   "cell_type": "markdown",
   "id": "b723c314",
   "metadata": {},
   "source": [
    "### 6. Find and interpret the value of Standard error."
   ]
  },
  {
   "cell_type": "markdown",
   "id": "e7017a3d",
   "metadata": {},
   "source": [
    "### 7. Find and interpret r2 (adj)"
   ]
  },
  {
   "cell_type": "markdown",
   "id": "90b5eb06",
   "metadata": {},
   "source": [
    "### 8. Use your formula to make a prediction of predictor values of your choice. Apply 95% prediction interval. Interpret the results"
   ]
  },
  {
   "cell_type": "code",
   "execution_count": null,
   "id": "df5c9d4a",
   "metadata": {},
   "outputs": [],
   "source": []
  }
 ],
 "metadata": {
  "kernelspec": {
   "display_name": "Python 3 (ipykernel)",
   "language": "python",
   "name": "python3"
  },
  "language_info": {
   "codemirror_mode": {
    "name": "ipython",
    "version": 3
   },
   "file_extension": ".py",
   "mimetype": "text/x-python",
   "name": "python",
   "nbconvert_exporter": "python",
   "pygments_lexer": "ipython3",
   "version": "3.9.7"
  }
 },
 "nbformat": 4,
 "nbformat_minor": 5
}
