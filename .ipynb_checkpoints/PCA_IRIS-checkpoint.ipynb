{
 "cells": [
  {
   "cell_type": "markdown",
   "id": "405e3e53",
   "metadata": {},
   "source": [
    "### Explain the reasons behind Dimension Reduction?\n",
    "\n",
    "It reduces the time and storage space required. It helps Remove multi-collinearity which improves the interpretation of the parameters of the machine learning model. It becomes easier to visualize the data when reduced to very low dimensions such as 2D or 3D. It avoids the curse of dimensionality."
   ]
  },
  {
   "cell_type": "markdown",
   "id": "33dde3af",
   "metadata": {},
   "source": [
    "### Define multicollinearity?\n",
    "\n",
    "Multicollinearity is the occurrence of high intercorrelations among two or more independent variables in a multiple regression model. Multicollinearity can lead to skewed or misleading results when a researcher or analyst attempts to determine how well each independent variable can be used most effectively to predict or understand the dependent variable in a statistical model."
   ]
  },
  {
   "cell_type": "code",
   "execution_count": null,
   "id": "7e17de68",
   "metadata": {},
   "outputs": [],
   "source": []
  }
 ],
 "metadata": {
  "kernelspec": {
   "display_name": "Python 3 (ipykernel)",
   "language": "python",
   "name": "python3"
  },
  "language_info": {
   "codemirror_mode": {
    "name": "ipython",
    "version": 3
   },
   "file_extension": ".py",
   "mimetype": "text/x-python",
   "name": "python",
   "nbconvert_exporter": "python",
   "pygments_lexer": "ipython3",
   "version": "3.9.7"
  }
 },
 "nbformat": 4,
 "nbformat_minor": 5
}
