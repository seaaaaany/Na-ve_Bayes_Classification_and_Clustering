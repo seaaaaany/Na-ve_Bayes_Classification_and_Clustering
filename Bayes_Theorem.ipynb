{
 "cells": [
  {
   "cell_type": "markdown",
   "id": "1b8530a2",
   "metadata": {},
   "source": [
    "### With what information does Bayes Theorem update our previous knowledge about the data parameters?\n",
    "\n",
    "1. By combining our previous knowledge (called the prior distribution),\n",
    "2. With new information obtained from observed data,\n",
    "3. Resulting in updated parameter knowledge (called the posterior distribution)."
   ]
  },
  {
   "cell_type": "markdown",
   "id": "8493070f",
   "metadata": {},
   "source": [
    "### What does the prior probability represent?\n",
    "\n",
    "Prior probability, in Bayesian statistical inference, is the probability of an event before new data is collected. This is the best rational assessment of the probability of an outcome based on the current knowledge before an experiment is performed. \n",
    "\n",
    "It often simply called the prior, of an uncertain quantity is the probability distribution that would express one's beliefs about this quantity before some evidence is taken into account."
   ]
  },
  {
   "cell_type": "markdown",
   "id": "34c6abb2",
   "metadata": {},
   "source": [
    "### Wine Analysis"
   ]
  },
  {
   "cell_type": "code",
   "execution_count": 1,
   "id": "5f84ddee",
   "metadata": {},
   "outputs": [],
   "source": [
    "# dependencies\n",
    "import pandas as pd\n",
    "import numpy as np\n",
    "import matplotlib.pyplot as plt\n",
    "\n",
    "from sklearn.naive_bayes import GaussianNB \n",
    "from sklearn.model_selection import train_test_split\n",
    "from sklearn.linear_model import LogisticRegression\n",
    "from sklearn.neural_network import MLPClassifier\n",
    "from sklearn.tree import DecisionTreeClassifier\n",
    "from sklearn.datasets import load_breast_cancer"
   ]
  },
  {
   "cell_type": "code",
   "execution_count": 2,
   "id": "26a9ae36",
   "metadata": {},
   "outputs": [],
   "source": [
    "# load training dataset\n",
    "wine_train = pd.read_csv('https://raw.githubusercontent.com/ArashVafa/DESC624/master/wine_flag_training.csv')\n",
    "# load test dataset\n",
    "wine_test = pd.read_csv('https://raw.githubusercontent.com/ArashVafa/DESC624/master/wine_flag_test.csv')"
   ]
  },
  {
   "cell_type": "code",
   "execution_count": 3,
   "id": "c53a5064",
   "metadata": {},
   "outputs": [
    {
     "data": {
      "text/html": [
       "<div>\n",
       "<style scoped>\n",
       "    .dataframe tbody tr th:only-of-type {\n",
       "        vertical-align: middle;\n",
       "    }\n",
       "\n",
       "    .dataframe tbody tr th {\n",
       "        vertical-align: top;\n",
       "    }\n",
       "\n",
       "    .dataframe thead th {\n",
       "        text-align: right;\n",
       "    }\n",
       "</style>\n",
       "<table border=\"1\" class=\"dataframe\">\n",
       "  <thead>\n",
       "    <tr style=\"text-align: right;\">\n",
       "      <th></th>\n",
       "      <th>Type</th>\n",
       "      <th>Alcohol_flag</th>\n",
       "      <th>Sugar_flag</th>\n",
       "    </tr>\n",
       "  </thead>\n",
       "  <tbody>\n",
       "    <tr>\n",
       "      <th>0</th>\n",
       "      <td>Red</td>\n",
       "      <td>High</td>\n",
       "      <td>High</td>\n",
       "    </tr>\n",
       "    <tr>\n",
       "      <th>1</th>\n",
       "      <td>Red</td>\n",
       "      <td>High</td>\n",
       "      <td>Low</td>\n",
       "    </tr>\n",
       "    <tr>\n",
       "      <th>2</th>\n",
       "      <td>Red</td>\n",
       "      <td>Low</td>\n",
       "      <td>High</td>\n",
       "    </tr>\n",
       "    <tr>\n",
       "      <th>3</th>\n",
       "      <td>Red</td>\n",
       "      <td>High</td>\n",
       "      <td>Low</td>\n",
       "    </tr>\n",
       "    <tr>\n",
       "      <th>4</th>\n",
       "      <td>Red</td>\n",
       "      <td>Low</td>\n",
       "      <td>Low</td>\n",
       "    </tr>\n",
       "  </tbody>\n",
       "</table>\n",
       "</div>"
      ],
      "text/plain": [
       "  Type Alcohol_flag Sugar_flag\n",
       "0  Red         High       High\n",
       "1  Red         High        Low\n",
       "2  Red          Low       High\n",
       "3  Red         High        Low\n",
       "4  Red          Low        Low"
      ]
     },
     "execution_count": 3,
     "metadata": {},
     "output_type": "execute_result"
    }
   ],
   "source": [
    "wine_train.head()"
   ]
  },
  {
   "cell_type": "markdown",
   "id": "006850aa",
   "metadata": {},
   "source": [
    "Build contingency tables for calculations.\n",
    "- The prior probability of Type = Red and Type = White.\n",
    "- The probability of high and low alcohol content.\n",
    "- The probability of high and low sugar content.\n",
    "- The conditional probabilities p(Alcohol_flag = High ∣ Type = Red) and p(Alcohol_flag = Low ∣ Type = Red).\n",
    "- The conditional probabilities p(Alcohol_flag = High ∣ Type = White) and p(Alcohol_flag = Low ∣ Type = White).\n",
    "- The conditional probabilities p(Sugar_flag = High ∣ Type = Red) and p(Sugar_flag = Low ∣ Type = Red).\n",
    "- The conditional probabilities p(Sugar_flag = High ∣ Type = White) and p(Sugar_flag = Low ∣ Type = White)."
   ]
  },
  {
   "cell_type": "code",
   "execution_count": null,
   "id": "72d631e7",
   "metadata": {},
   "outputs": [],
   "source": []
  }
 ],
 "metadata": {
  "kernelspec": {
   "display_name": "Python 3 (ipykernel)",
   "language": "python",
   "name": "python3"
  },
  "language_info": {
   "codemirror_mode": {
    "name": "ipython",
    "version": 3
   },
   "file_extension": ".py",
   "mimetype": "text/x-python",
   "name": "python",
   "nbconvert_exporter": "python",
   "pygments_lexer": "ipython3",
   "version": "3.9.7"
  }
 },
 "nbformat": 4,
 "nbformat_minor": 5
}
