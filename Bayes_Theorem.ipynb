{
 "cells": [
  {
   "cell_type": "markdown",
   "id": "f8243c7b",
   "metadata": {},
   "source": [
    "### With what information does Bayes Theorem update our previous knowledge about the data parameters?"
   ]
  },
  {
   "cell_type": "markdown",
   "id": "3a49cd9b",
   "metadata": {},
   "source": [
    "### What does the prior probability represent?"
   ]
  },
  {
   "cell_type": "code",
   "execution_count": null,
   "id": "fa3e94cd",
   "metadata": {},
   "outputs": [],
   "source": []
  }
 ],
 "metadata": {
  "kernelspec": {
   "display_name": "Python 3 (ipykernel)",
   "language": "python",
   "name": "python3"
  },
  "language_info": {
   "codemirror_mode": {
    "name": "ipython",
    "version": 3
   },
   "file_extension": ".py",
   "mimetype": "text/x-python",
   "name": "python",
   "nbconvert_exporter": "python",
   "pygments_lexer": "ipython3",
   "version": "3.9.7"
  }
 },
 "nbformat": 4,
 "nbformat_minor": 5
}
