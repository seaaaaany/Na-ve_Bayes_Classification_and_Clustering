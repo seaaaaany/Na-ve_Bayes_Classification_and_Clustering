{
 "cells": [
  {
   "cell_type": "markdown",
   "id": "2f48331e",
   "metadata": {},
   "source": [
    "### With what information does Bayes Theorem update our previous knowledge about the data parameters?\n",
    "\n",
    "1. By combining our previous knowledge (called the prior distribution),\n",
    "2. With new information obtained from observed data,\n",
    "3. Resulting in updated parameter knowledge (called the posterior distribution)."
   ]
  },
  {
   "cell_type": "markdown",
   "id": "31af3dfd",
   "metadata": {},
   "source": [
    "### What does the prior probability represent?\n",
    "\n",
    "Prior probability, in Bayesian statistical inference, is the probability of an event before new data is collected. This is the best rational assessment of the probability of an outcome based on the current knowledge before an experiment is performed. \n",
    "\n",
    "It often simply called the prior, of an uncertain quantity is the probability distribution that would express one's beliefs about this quantity before some evidence is taken into account."
   ]
  },
  {
   "cell_type": "markdown",
   "id": "6513e746",
   "metadata": {},
   "source": [
    "### Wine Analysis"
   ]
  },
  {
   "cell_type": "code",
   "execution_count": 1,
   "id": "8f7d2387",
   "metadata": {},
   "outputs": [],
   "source": [
    "# dependencies\n",
    "import pandas as pd\n",
    "import numpy as np\n",
    "import matplotlib.pyplot as plt\n",
    "\n",
    "from sklearn.naive_bayes import GaussianNB \n",
    "from sklearn.model_selection import train_test_split\n",
    "from sklearn.linear_model import LogisticRegression\n",
    "from sklearn.neural_network import MLPClassifier\n",
    "from sklearn.tree import DecisionTreeClassifier\n",
    "from sklearn.datasets import load_breast_cancer"
   ]
  },
  {
   "cell_type": "code",
   "execution_count": 2,
   "id": "bf92a486",
   "metadata": {},
   "outputs": [],
   "source": [
    "# load training dataset\n",
    "wine_train = pd.read_csv('https://raw.githubusercontent.com/ArashVafa/DESC624/master/wine_flag_training.csv')\n",
    "# load test dataset\n",
    "wine_test = pd.read_csv('https://raw.githubusercontent.com/ArashVafa/DESC624/master/wine_flag_test.csv')"
   ]
  },
  {
   "cell_type": "code",
   "execution_count": 3,
   "id": "16195e5f",
   "metadata": {},
   "outputs": [
    {
     "data": {
      "text/html": [
       "<div>\n",
       "<style scoped>\n",
       "    .dataframe tbody tr th:only-of-type {\n",
       "        vertical-align: middle;\n",
       "    }\n",
       "\n",
       "    .dataframe tbody tr th {\n",
       "        vertical-align: top;\n",
       "    }\n",
       "\n",
       "    .dataframe thead th {\n",
       "        text-align: right;\n",
       "    }\n",
       "</style>\n",
       "<table border=\"1\" class=\"dataframe\">\n",
       "  <thead>\n",
       "    <tr style=\"text-align: right;\">\n",
       "      <th></th>\n",
       "      <th>Type</th>\n",
       "      <th>Alcohol_flag</th>\n",
       "      <th>Sugar_flag</th>\n",
       "    </tr>\n",
       "  </thead>\n",
       "  <tbody>\n",
       "    <tr>\n",
       "      <th>0</th>\n",
       "      <td>Red</td>\n",
       "      <td>High</td>\n",
       "      <td>High</td>\n",
       "    </tr>\n",
       "    <tr>\n",
       "      <th>1</th>\n",
       "      <td>Red</td>\n",
       "      <td>High</td>\n",
       "      <td>Low</td>\n",
       "    </tr>\n",
       "    <tr>\n",
       "      <th>2</th>\n",
       "      <td>Red</td>\n",
       "      <td>Low</td>\n",
       "      <td>High</td>\n",
       "    </tr>\n",
       "    <tr>\n",
       "      <th>3</th>\n",
       "      <td>Red</td>\n",
       "      <td>High</td>\n",
       "      <td>Low</td>\n",
       "    </tr>\n",
       "    <tr>\n",
       "      <th>4</th>\n",
       "      <td>Red</td>\n",
       "      <td>Low</td>\n",
       "      <td>Low</td>\n",
       "    </tr>\n",
       "  </tbody>\n",
       "</table>\n",
       "</div>"
      ],
      "text/plain": [
       "  Type Alcohol_flag Sugar_flag\n",
       "0  Red         High       High\n",
       "1  Red         High        Low\n",
       "2  Red          Low       High\n",
       "3  Red         High        Low\n",
       "4  Red          Low        Low"
      ]
     },
     "execution_count": 3,
     "metadata": {},
     "output_type": "execute_result"
    }
   ],
   "source": [
    "wine_train.head()"
   ]
  },
  {
   "cell_type": "markdown",
   "id": "70237b9d",
   "metadata": {},
   "source": [
    "Build contingency tables for calculations."
   ]
  },
  {
   "cell_type": "code",
   "execution_count": 10,
   "id": "8012877b",
   "metadata": {},
   "outputs": [
    {
     "data": {
      "text/html": [
       "<div>\n",
       "<style scoped>\n",
       "    .dataframe tbody tr th:only-of-type {\n",
       "        vertical-align: middle;\n",
       "    }\n",
       "\n",
       "    .dataframe tbody tr th {\n",
       "        vertical-align: top;\n",
       "    }\n",
       "\n",
       "    .dataframe thead th {\n",
       "        text-align: right;\n",
       "    }\n",
       "</style>\n",
       "<table border=\"1\" class=\"dataframe\">\n",
       "  <thead>\n",
       "    <tr style=\"text-align: right;\">\n",
       "      <th>Alcohol_flag</th>\n",
       "      <th>High</th>\n",
       "      <th>Low</th>\n",
       "      <th>All</th>\n",
       "    </tr>\n",
       "    <tr>\n",
       "      <th>Type</th>\n",
       "      <th></th>\n",
       "      <th></th>\n",
       "      <th></th>\n",
       "    </tr>\n",
       "  </thead>\n",
       "  <tbody>\n",
       "    <tr>\n",
       "      <th>Red</th>\n",
       "      <td>218</td>\n",
       "      <td>282</td>\n",
       "      <td>500</td>\n",
       "    </tr>\n",
       "    <tr>\n",
       "      <th>White</th>\n",
       "      <td>268</td>\n",
       "      <td>232</td>\n",
       "      <td>500</td>\n",
       "    </tr>\n",
       "    <tr>\n",
       "      <th>All</th>\n",
       "      <td>486</td>\n",
       "      <td>514</td>\n",
       "      <td>1000</td>\n",
       "    </tr>\n",
       "  </tbody>\n",
       "</table>\n",
       "</div>"
      ],
      "text/plain": [
       "Alcohol_flag  High  Low   All\n",
       "Type                         \n",
       "Red            218  282   500\n",
       "White          268  232   500\n",
       "All            486  514  1000"
      ]
     },
     "execution_count": 10,
     "metadata": {},
     "output_type": "execute_result"
    }
   ],
   "source": [
    "# contingency tables for Type and Alcohol_flag\n",
    "ct1 = pd.crosstab(wine_train.Type, wine_train.Alcohol_flag, margins=True)\n",
    "ct1"
   ]
  },
  {
   "cell_type": "code",
   "execution_count": 12,
   "id": "9ff32a88",
   "metadata": {},
   "outputs": [
    {
     "data": {
      "text/html": [
       "<div>\n",
       "<style scoped>\n",
       "    .dataframe tbody tr th:only-of-type {\n",
       "        vertical-align: middle;\n",
       "    }\n",
       "\n",
       "    .dataframe tbody tr th {\n",
       "        vertical-align: top;\n",
       "    }\n",
       "\n",
       "    .dataframe thead th {\n",
       "        text-align: right;\n",
       "    }\n",
       "</style>\n",
       "<table border=\"1\" class=\"dataframe\">\n",
       "  <thead>\n",
       "    <tr style=\"text-align: right;\">\n",
       "      <th>Sugar_flag</th>\n",
       "      <th>High</th>\n",
       "      <th>Low</th>\n",
       "      <th>All</th>\n",
       "    </tr>\n",
       "    <tr>\n",
       "      <th>Type</th>\n",
       "      <th></th>\n",
       "      <th></th>\n",
       "      <th></th>\n",
       "    </tr>\n",
       "  </thead>\n",
       "  <tbody>\n",
       "    <tr>\n",
       "      <th>Red</th>\n",
       "      <td>116</td>\n",
       "      <td>384</td>\n",
       "      <td>500</td>\n",
       "    </tr>\n",
       "    <tr>\n",
       "      <th>White</th>\n",
       "      <td>300</td>\n",
       "      <td>200</td>\n",
       "      <td>500</td>\n",
       "    </tr>\n",
       "    <tr>\n",
       "      <th>All</th>\n",
       "      <td>416</td>\n",
       "      <td>584</td>\n",
       "      <td>1000</td>\n",
       "    </tr>\n",
       "  </tbody>\n",
       "</table>\n",
       "</div>"
      ],
      "text/plain": [
       "Sugar_flag  High  Low   All\n",
       "Type                       \n",
       "Red          116  384   500\n",
       "White        300  200   500\n",
       "All          416  584  1000"
      ]
     },
     "execution_count": 12,
     "metadata": {},
     "output_type": "execute_result"
    }
   ],
   "source": [
    "# contingency tables for Type and Sugar_flag\n",
    "ct2 = pd.crosstab(wine_train.Type, wine_train.Sugar_flag, margins=True)\n",
    "ct2"
   ]
  },
  {
   "cell_type": "code",
   "execution_count": 29,
   "id": "af8442df",
   "metadata": {},
   "outputs": [
    {
     "name": "stdout",
     "output_type": "stream",
     "text": [
      "The prior probability of Type = Red is  50.0 %\n",
      "The prior probability of Type = White is  50.0 %\n",
      "The probability of high content is:  48.6 %\n",
      "The probability of low content is:  51.4 %\n",
      "The probability of high sugar content is:  41.6 %\n",
      "The probability of low sugar content is:  41.6 %\n",
      "The onditional probabilities p(Alcohol_flag = High ∣ Type = Red) is  43.6 %\n",
      "The onditional probabilities p(Alcohol_flag = High ∣ Type = Red) is  56.4 %\n",
      "The conditional probabilities p(Alcohol_flag = High ∣ Type = White) is  53.6 %\n",
      "The conditional probabilities p(Alcohol_flag = Low ∣ Type = White) is  46.4 %\n",
      "The conditional probabilities p(Sugar_flag = High ∣ Type = Red) is  23.2 %\n",
      "The conditional probabilities p(Sugar_flag = Low ∣ Type = Red) is  76.8 %\n",
      "The conditional probabilities p(Sugar_flag = High ∣ Type = White) is  60.0 %\n",
      "The conditional probabilities p(Sugar_flag = Low ∣ Type = White) is  40.0 %\n"
     ]
    }
   ],
   "source": [
    "# The prior probability of Type = Red and Type = White.\n",
    "prob1 = ct1['All']['Red']/ct1['All']['All']\n",
    "print(\"The prior probability of Type = Red is \", round(prob1*100,2), \"%\")\n",
    "print(\"The prior probability of Type = White is \", round((1-prob1)*100,2), \"%\")\n",
    "\n",
    "# The probability of high and low alcohol content.\n",
    "prob2 = ct1['High']['All']/ct1['All']['All']\n",
    "print(\"The probability of high content is: \", round(prob2*100,2), \"%\")\n",
    "print(\"The probability of low content is: \", round((1-prob2)*100,2), \"%\")\n",
    "\n",
    "# The probability of high and low sugar content.\n",
    "prob3 = ct2['High']['All']/ct2['All']['All']\n",
    "print(\"The probability of high sugar content is: \", round(prob3*100,2), \"%\")\n",
    "print(\"The probability of low sugar content is: \", round(prob3*100,2), \"%\")\n",
    "\n",
    "# The conditional probabilities p(Alcohol_flag = High ∣ Type = Red) and p(Alcohol_flag = Low ∣ Type = Red).\n",
    "prob4 = ct1['High']['Red']/ct1['All']['Red']\n",
    "print(\"The onditional probabilities p(Alcohol_flag = High ∣ Type = Red) is \", round(prob4*100,2), \"%\")\n",
    "print(\"The onditional probabilities p(Alcohol_flag = High ∣ Type = Red) is \", round((1-prob4)*100,2), \"%\")\n",
    "\n",
    "# The conditional probabilities p(Alcohol_flag = High ∣ Type = White) and p(Alcohol_flag = Low ∣ Type = White).\n",
    "prob5 = ct1['High']['White']/ct1['All']['White'] \n",
    "print(\"The conditional probabilities p(Alcohol_flag = High ∣ Type = White) is \", round(prob5*100, 2), \"%\")\n",
    "print(\"The conditional probabilities p(Alcohol_flag = Low ∣ Type = White) is \", round((1-prob5)*100, 2), \"%\")\n",
    "\n",
    "# The conditional probabilities p(Sugar_flag = High ∣ Type = Red) and p(Sugar_flag = Low ∣ Type = Red).\n",
    "prob6 = ct2['High']['Red']/ct2['All']['Red']\n",
    "print(\"The conditional probabilities p(Sugar_flag = High ∣ Type = Red) is \", round(prob6*100, 2), \"%\")\n",
    "print(\"The conditional probabilities p(Sugar_flag = Low ∣ Type = Red) is \", round((1-prob6)*100, 2), \"%\")\n",
    "\n",
    "# The conditional probabilities p(Sugar_flag = High ∣ Type = White) and p(Sugar_flag = Low ∣ Type = White).\n",
    "prob7 = ct2['High']['White']/ct2['All']['White']\n",
    "print(\"The conditional probabilities p(Sugar_flag = High ∣ Type = White) is \", round(prob7*100, 2), \"%\")\n",
    "print(\"The conditional probabilities p(Sugar_flag = Low ∣ Type = White) is \", round((1-prob7)*100, 2), \"%\")"
   ]
  },
  {
   "cell_type": "code",
   "execution_count": null,
   "id": "af672cc2",
   "metadata": {},
   "outputs": [],
   "source": []
  }
 ],
 "metadata": {
  "kernelspec": {
   "display_name": "Python 3 (ipykernel)",
   "language": "python",
   "name": "python3"
  },
  "language_info": {
   "codemirror_mode": {
    "name": "ipython",
    "version": 3
   },
   "file_extension": ".py",
   "mimetype": "text/x-python",
   "name": "python",
   "nbconvert_exporter": "python",
   "pygments_lexer": "ipython3",
   "version": "3.9.7"
  }
 },
 "nbformat": 4,
 "nbformat_minor": 5
}
